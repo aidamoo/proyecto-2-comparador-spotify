{
 "cells": [
  {
   "cell_type": "markdown",
   "metadata": {},
   "source": [
    "RECOMENDADOR SPOTIFY"
   ]
  },
  {
   "cell_type": "code",
   "execution_count": 1,
   "metadata": {
    "tags": []
   },
   "outputs": [
    {
     "name": "stderr",
     "output_type": "stream",
     "text": [
      "/home/hacker/anaconda3/lib/python3.11/site-packages/pandas/core/arrays/masked.py:60: UserWarning: Pandas requires version '1.3.6' or newer of 'bottleneck' (version '1.3.5' currently installed).\n",
      "  from pandas.core import (\n",
      "2024-02-20 17:17:05.686313: I tensorflow/core/util/port.cc:113] oneDNN custom operations are on. You may see slightly different numerical results due to floating-point round-off errors from different computation orders. To turn them off, set the environment variable `TF_ENABLE_ONEDNN_OPTS=0`.\n",
      "2024-02-20 17:17:05.688455: I external/local_tsl/tsl/cuda/cudart_stub.cc:31] Could not find cuda drivers on your machine, GPU will not be used.\n",
      "2024-02-20 17:17:05.714741: E external/local_xla/xla/stream_executor/cuda/cuda_dnn.cc:9261] Unable to register cuDNN factory: Attempting to register factory for plugin cuDNN when one has already been registered\n",
      "2024-02-20 17:17:05.714770: E external/local_xla/xla/stream_executor/cuda/cuda_fft.cc:607] Unable to register cuFFT factory: Attempting to register factory for plugin cuFFT when one has already been registered\n",
      "2024-02-20 17:17:05.715531: E external/local_xla/xla/stream_executor/cuda/cuda_blas.cc:1515] Unable to register cuBLAS factory: Attempting to register factory for plugin cuBLAS when one has already been registered\n",
      "2024-02-20 17:17:05.719958: I external/local_tsl/tsl/cuda/cudart_stub.cc:31] Could not find cuda drivers on your machine, GPU will not be used.\n",
      "2024-02-20 17:17:05.720133: I tensorflow/core/platform/cpu_feature_guard.cc:182] This TensorFlow binary is optimized to use available CPU instructions in performance-critical operations.\n",
      "To enable the following instructions: AVX2 AVX512F AVX512_VNNI FMA, in other operations, rebuild TensorFlow with the appropriate compiler flags.\n",
      "2024-02-20 17:17:06.343613: W tensorflow/compiler/tf2tensorrt/utils/py_utils.cc:38] TF-TRT Warning: Could not find TensorRT\n"
     ]
    }
   ],
   "source": [
    "import numpy as np\n",
    "import pandas as pd\n",
    "import matplotlib.pyplot as plt\n",
    "import seaborn as sns\n",
    "from sklearn.metrics.pairwise import cosine_similarity\n",
    "from tensorflow.keras.models import load_model, save_model\n",
    "import h5py\n",
    "from surprise import Dataset, Reader, SVD\n",
    "from surprise.model_selection import train_test_split"
   ]
  },
  {
   "cell_type": "markdown",
   "metadata": {},
   "source": [
    "**Artist_0** Main Artist\n",
    "\n",
    "**Duration_sec** Duration_secTrack length in seconds\n",
    "\n",
    "**Label** The label associated with the album.\n",
    "\n",
    "**Track_number**: The number of the track. If an album has several discs, the track number is the number on the specified disc.\n",
    "\n",
    "\n",
    "**Artist_popularity** The popularity of the artist. The value will be between 0 and 100, with 100 being the most popular.\n",
    "\n",
    "**Followers** The total number of followers for main artist.\n",
    "\n",
    "**Genre_0** Main Genre\n",
    "\n",
    "**Acousticness** A confidence measure from 0.0 to 1.0 of whether the track is acoustic.\n",
    "\n",
    "**Danceability** Danceability describes how suitable a track is for dancing based on a combination of musical elements\n",
    "\n",
    "**Energy** Energy is a measure from 0.0 to 1.0 and represents a perceptual measure of intensity and activity.\n",
    "\n",
    "**Instrumentalness** Predicts whether a track contains no vocals\n",
    "\n",
    "**Key** The key the track is in. Integers map to pitches using standard Pitch\n",
    "\n",
    "**Liveness** Detects the presence of an audience in the recording.\n",
    "\n",
    "**Loudness** The overall loudness of a track in decibels (dB).\n",
    "\n",
    "**Mode** Mode indicates the modality (major or minor) of a track\n",
    "\n",
    "**Tempo** The overall estimated tempo of a track in beats per minute (BPM)\n",
    "\n",
    "**Time_signature** An estimated time signature.\n",
    "\n",
    "**Valence** A measure from 0.0 to 1.0 describing the musical positiveness conveyed by a track.\n",
    "\n",
    "**Track_popularity** The popularity of a track is a value between 0 and 100, with 100 being the most popular."
   ]
  },
  {
   "cell_type": "code",
   "execution_count": 2,
   "metadata": {},
   "outputs": [
    {
     "name": "stderr",
     "output_type": "stream",
     "text": [
      "/tmp/ipykernel_20046/1945078820.py:1: DtypeWarning: Columns (25,26,44) have mixed types. Specify dtype option on import or set low_memory=False.\n",
      "  spotify_features_data = pd.read_csv(\"Data/spotify_data_12_20_2023.csv\")\n"
     ]
    }
   ],
   "source": [
    "spotify_features_data = pd.read_csv(\"Data/spotify_data_12_20_2023.csv\")"
   ]
  },
  {
   "cell_type": "code",
   "execution_count": 3,
   "metadata": {},
   "outputs": [
    {
     "data": {
      "text/plain": [
       "album_id                  0\n",
       "album_name                1\n",
       "album_popularity          0\n",
       "album_type                0\n",
       "artists                   0\n",
       "artist_0                  2\n",
       "artist_1             288062\n",
       "artist_2             336841\n",
       "artist_3             361318\n",
       "artist_4             369054\n",
       "artist_id                 0\n",
       "duration_sec              0\n",
       "label                    52\n",
       "release_date             22\n",
       "total_tracks              0\n",
       "track_id                  0\n",
       "track_name                5\n",
       "track_number              0\n",
       "artist_genres             0\n",
       "artist_popularity         0\n",
       "followers                 0\n",
       "name                      0\n",
       "genre_0              165278\n",
       "genre_1              255655\n",
       "genre_2              297922\n",
       "genre_3              326531\n",
       "genre_4              343824\n",
       "acousticness            777\n",
       "analysis_url            777\n",
       "danceability            777\n",
       "duration_ms             777\n",
       "energy                  777\n",
       "instrumentalness        777\n",
       "key                     777\n",
       "liveness                777\n",
       "loudness                777\n",
       "mode                    777\n",
       "speechiness             777\n",
       "tempo                   777\n",
       "time_signature          777\n",
       "track_href              777\n",
       "type                    777\n",
       "uri                     777\n",
       "valence                 777\n",
       "explicit                 10\n",
       "track_popularity         10\n",
       "release_year             22\n",
       "release_month            22\n",
       "rn                        0\n",
       "dtype: int64"
      ]
     },
     "execution_count": 3,
     "metadata": {},
     "output_type": "execute_result"
    }
   ],
   "source": [
    "spotify_features_data.isnull().sum()"
   ]
  },
  {
   "cell_type": "markdown",
   "metadata": {},
   "source": [
    "### Analizamos las distintas columnas que contiene el DataFrame"
   ]
  },
  {
   "cell_type": "code",
   "execution_count": 4,
   "metadata": {
    "tags": []
   },
   "outputs": [
    {
     "name": "stdout",
     "output_type": "stream",
     "text": [
      "Primeras filas del DataFrame:\n",
      "                  album_id   album_name  album_popularity album_type  \\\n",
      "0  4zH8bbEjLe0Gdbv2FVLjnK  Son Of Tabu                 1      album   \n",
      "1  4zH8bbEjLe0Gdbv2FVLjnK  Son Of Tabu                 1      album   \n",
      "2  4zH8bbEjLe0Gdbv2FVLjnK  Son Of Tabu                 1      album   \n",
      "\n",
      "              artists artist_0  artist_1 artist_2 artist_3 artist_4  ...  \\\n",
      "0              ['AB']       AB       NaN      NaN      NaN      NaN  ...   \n",
      "1  ['AB', '22nd Jim']       AB  22nd Jim      NaN      NaN      NaN  ...   \n",
      "2     ['AB', 'Veeze']       AB     Veeze      NaN      NaN      NaN  ...   \n",
      "\n",
      "  time_signature                                         track_href  \\\n",
      "0            4.0  https://api.spotify.com/v1/tracks/5JucnTkqh8uC...   \n",
      "1            4.0  https://api.spotify.com/v1/tracks/4VWrKNG3ssyZ...   \n",
      "2            4.0  https://api.spotify.com/v1/tracks/6JsVrTLJPSOS...   \n",
      "\n",
      "             type                                   uri  valence explicit  \\\n",
      "0  audio_features  spotify:track:5JucnTkqh8uCZGggL1xxvv    0.382     True   \n",
      "1  audio_features  spotify:track:4VWrKNG3ssyZeboTgQ7Kj1    0.193     True   \n",
      "2  audio_features  spotify:track:6JsVrTLJPSOSpgJSnZyfSK    0.835     True   \n",
      "\n",
      "  track_popularity  release_year release_month  rn  \n",
      "0              0.0        2023.0         April   1  \n",
      "1              1.0        2023.0         April   1  \n",
      "2              1.0        2023.0         April   1  \n",
      "\n",
      "[3 rows x 49 columns] \n",
      "\n",
      "Información del DataFrame:\n",
      "\n",
      "<class 'pandas.core.frame.DataFrame'>\n",
      "RangeIndex: 375141 entries, 0 to 375140\n",
      "Data columns (total 49 columns):\n",
      " #   Column             Non-Null Count   Dtype  \n",
      "---  ------             --------------   -----  \n",
      " 0   album_id           375141 non-null  object \n",
      " 1   album_name         375140 non-null  object \n",
      " 2   album_popularity   375141 non-null  int64  \n",
      " 3   album_type         375141 non-null  object \n",
      " 4   artists            375141 non-null  object \n",
      " 5   artist_0           375139 non-null  object \n",
      " 6   artist_1           87079 non-null   object \n",
      " 7   artist_2           38300 non-null   object \n",
      " 8   artist_3           13823 non-null   object \n",
      " 9   artist_4           6087 non-null    object \n",
      " 10  artist_id          375141 non-null  object \n",
      " 11  duration_sec       375141 non-null  float64\n",
      " 12  label              375089 non-null  object \n",
      " 13  release_date       375119 non-null  object \n",
      " 14  total_tracks       375141 non-null  int64  \n",
      " 15  track_id           375141 non-null  object \n",
      " 16  track_name         375136 non-null  object \n",
      " 17  track_number       375141 non-null  int64  \n",
      " 18  artist_genres      375141 non-null  object \n",
      " 19  artist_popularity  375141 non-null  int64  \n",
      " 20  followers          375141 non-null  int64  \n",
      " 21  name               375141 non-null  object \n",
      " 22  genre_0            209863 non-null  object \n",
      " 23  genre_1            119486 non-null  object \n",
      " 24  genre_2            77219 non-null   object \n",
      " 25  genre_3            48610 non-null   object \n",
      " 26  genre_4            31317 non-null   object \n",
      " 27  acousticness       374364 non-null  float64\n",
      " 28  analysis_url       374364 non-null  object \n",
      " 29  danceability       374364 non-null  float64\n",
      " 30  duration_ms        374364 non-null  float64\n",
      " 31  energy             374364 non-null  float64\n",
      " 32  instrumentalness   374364 non-null  float64\n",
      " 33  key                374364 non-null  float64\n",
      " 34  liveness           374364 non-null  float64\n",
      " 35  loudness           374364 non-null  float64\n",
      " 36  mode               374364 non-null  float64\n",
      " 37  speechiness        374364 non-null  float64\n",
      " 38  tempo              374364 non-null  float64\n",
      " 39  time_signature     374364 non-null  float64\n",
      " 40  track_href         374364 non-null  object \n",
      " 41  type               374364 non-null  object \n",
      " 42  uri                374364 non-null  object \n",
      " 43  valence            374364 non-null  float64\n",
      " 44  explicit           375131 non-null  object \n",
      " 45  track_popularity   375131 non-null  float64\n",
      " 46  release_year       375119 non-null  float64\n",
      " 47  release_month      375119 non-null  object \n",
      " 48  rn                 375141 non-null  int64  \n",
      "dtypes: float64(16), int64(6), object(27)\n",
      "memory usage: 140.2+ MB\n",
      "None \n",
      "\n",
      "Descripción estadística:\n",
      "        album_popularity   duration_sec   total_tracks   track_number  \\\n",
      "count     375141.000000  375141.000000  375141.000000  375141.000000   \n",
      "mean          17.132020     215.427770      18.258711       8.039367   \n",
      "std           20.371022     125.727422      26.674688       8.089265   \n",
      "min            0.000000       0.000000       1.000000       1.000000   \n",
      "25%            1.000000     159.700000       8.000000       2.000000   \n",
      "50%            8.000000     204.545000      13.000000       6.000000   \n",
      "75%           28.000000     251.480000      20.000000      11.000000   \n",
      "max          100.000000   17919.000000     984.000000      50.000000   \n",
      "\n",
      "       artist_popularity     followers   acousticness   danceability  \\\n",
      "count      375141.000000  3.751410e+05  374364.000000  374364.000000   \n",
      "mean           29.346552  2.282646e+06       0.385691       0.572329   \n",
      "std            26.250589  9.635135e+06       0.359072       0.190816   \n",
      "min             0.000000  0.000000e+00       0.000000       0.000000   \n",
      "25%             5.000000  2.500000e+02       0.038900       0.452000   \n",
      "50%            24.000000  3.511000e+03       0.268000       0.598000   \n",
      "75%            48.000000  9.816100e+04       0.739000       0.714000   \n",
      "max           100.000000  1.160356e+08       0.996000       0.999000   \n",
      "\n",
      "        duration_ms         energy  ...       liveness       loudness  \\\n",
      "count  3.743640e+05  374364.000000  ...  374364.000000  374364.000000   \n",
      "mean   2.155215e+05       0.524809  ...       0.196691     -11.248916   \n",
      "std    1.166461e+05       0.264170  ...       0.175032       6.548005   \n",
      "min    3.056000e+03       0.000000  ...       0.000000     -60.000000   \n",
      "25%    1.600000e+05       0.319000  ...       0.097400     -14.060000   \n",
      "50%    2.047070e+05       0.539000  ...       0.124000      -9.527000   \n",
      "75%    2.516130e+05       0.736000  ...       0.235000      -6.681000   \n",
      "max    5.280027e+06       1.000000  ...       1.000000       3.744000   \n",
      "\n",
      "                mode    speechiness          tempo  time_signature  \\\n",
      "count  374364.000000  374364.000000  374364.000000   374364.000000   \n",
      "mean        0.637981       0.116585     118.651284        3.874149   \n",
      "std         0.480585       0.162882      30.516832        0.520690   \n",
      "min         0.000000       0.000000       0.000000        0.000000   \n",
      "25%         0.000000       0.036400      94.989000        4.000000   \n",
      "50%         1.000000       0.050100     119.422000        4.000000   \n",
      "75%         1.000000       0.109000     138.005000        4.000000   \n",
      "max         1.000000       0.970000     249.428000        5.000000   \n",
      "\n",
      "             valence  track_popularity   release_year        rn  \n",
      "count  374364.000000     375131.000000  375119.000000  375141.0  \n",
      "mean        0.453961         10.273267    2013.410198       1.0  \n",
      "std         0.266342         15.633540      11.814354       0.0  \n",
      "min         0.000000          0.000000    1886.000000       1.0  \n",
      "25%         0.231000          0.000000    2010.000000       1.0  \n",
      "50%         0.440000          2.000000    2017.000000       1.0  \n",
      "75%         0.664000         15.000000    2022.000000       1.0  \n",
      "max         1.000000         99.000000    2023.000000       1.0  \n",
      "\n",
      "[8 rows x 22 columns] \n",
      "\n",
      "Valores faltantes por columna:\n",
      " album_id                  0\n",
      "album_name                1\n",
      "album_popularity          0\n",
      "album_type                0\n",
      "artists                   0\n",
      "artist_0                  2\n",
      "artist_1             288062\n",
      "artist_2             336841\n",
      "artist_3             361318\n",
      "artist_4             369054\n",
      "artist_id                 0\n",
      "duration_sec              0\n",
      "label                    52\n",
      "release_date             22\n",
      "total_tracks              0\n",
      "track_id                  0\n",
      "track_name                5\n",
      "track_number              0\n",
      "artist_genres             0\n",
      "artist_popularity         0\n",
      "followers                 0\n",
      "name                      0\n",
      "genre_0              165278\n",
      "genre_1              255655\n",
      "genre_2              297922\n",
      "genre_3              326531\n",
      "genre_4              343824\n",
      "acousticness            777\n",
      "analysis_url            777\n",
      "danceability            777\n",
      "duration_ms             777\n",
      "energy                  777\n",
      "instrumentalness        777\n",
      "key                     777\n",
      "liveness                777\n",
      "loudness                777\n",
      "mode                    777\n",
      "speechiness             777\n",
      "tempo                   777\n",
      "time_signature          777\n",
      "track_href              777\n",
      "type                    777\n",
      "uri                     777\n",
      "valence                 777\n",
      "explicit                 10\n",
      "track_popularity         10\n",
      "release_year             22\n",
      "release_month            22\n",
      "rn                        0\n",
      "dtype: int64\n"
     ]
    }
   ],
   "source": [
    "# Visualizar las primeras filas del DataFrame\n",
    "print(\"Primeras filas del DataFrame:\\n\", spotify_features_data.head(3), \"\\n\")\n",
    "\n",
    "# Comprobamos la información el DataFrame\n",
    "print(\"Información del DataFrame:\\n\")\n",
    "print(spotify_features_data.info(), \"\\n\")\n",
    "\n",
    "# Descripción estadística de las columnas numéricas\n",
    "print(\"Descripción estadística:\\n\", spotify_features_data.describe(), \"\\n\")\n",
    "\n",
    "# Contamos los valores faltantes por columna\n",
    "print(\"Valores faltantes por columna:\\n\", spotify_features_data.isna().sum())"
   ]
  },
  {
   "cell_type": "code",
   "execution_count": 5,
   "metadata": {},
   "outputs": [
    {
     "data": {
      "text/plain": [
       "album_id              67991\n",
       "album_name            61467\n",
       "album_popularity         99\n",
       "album_type                2\n",
       "artists               66002\n",
       "artist_0              35112\n",
       "artist_1              24641\n",
       "artist_2               9567\n",
       "artist_3               3828\n",
       "artist_4               1756\n",
       "artist_id             31699\n",
       "duration_sec         138290\n",
       "label                 29638\n",
       "release_date           7503\n",
       "total_tracks            151\n",
       "track_id             375141\n",
       "track_name           275523\n",
       "track_number             50\n",
       "artist_genres          5993\n",
       "artist_popularity        94\n",
       "followers             12001\n",
       "name                  30948\n",
       "genre_0                3008\n",
       "genre_1                1740\n",
       "genre_2                 955\n",
       "genre_3                 524\n",
       "genre_4                 301\n",
       "acousticness           5242\n",
       "analysis_url         374364\n",
       "danceability           1327\n",
       "duration_ms          137997\n",
       "energy                 2918\n",
       "instrumentalness       5402\n",
       "key                      12\n",
       "liveness               1769\n",
       "loudness              32916\n",
       "mode                      2\n",
       "speechiness            1653\n",
       "tempo                101940\n",
       "time_signature            5\n",
       "track_href           374364\n",
       "type                      1\n",
       "uri                  374364\n",
       "valence                2043\n",
       "explicit                  2\n",
       "track_popularity        100\n",
       "release_year             85\n",
       "release_month            12\n",
       "rn                        1\n",
       "dtype: int64"
      ]
     },
     "execution_count": 5,
     "metadata": {},
     "output_type": "execute_result"
    }
   ],
   "source": [
    "# Comprobamos los datos unicos de las columnas\n",
    "spotify_features_data.nunique()"
   ]
  },
  {
   "cell_type": "code",
   "execution_count": 6,
   "metadata": {},
   "outputs": [
    {
     "data": {
      "text/plain": [
       "album_id\n",
       "2EHUlDJaTyvn0gAvVfUlcY    50\n",
       "7yS8FoMCF2XSiJK2DWYYci    50\n",
       "55RhFRyQFihIyGf61MgcfV    50\n",
       "7iI1y8RwGzaXWxzuHsrbDM    50\n",
       "6s1DWmUCmFjzD09SRdnfVH    50\n",
       "                          ..\n",
       "6A1L3hSVjljVh5yOseAzKt     1\n",
       "4EtZ8h7dF6bZwiYgxGx1Yi     1\n",
       "6pFdjrYa5MYXHFRzEZsOkK     1\n",
       "5rtD0lXzuAoTkIoj5uq5ud     1\n",
       "4l5hyndJX8PMEkGUXP5kOm     1\n",
       "Name: count, Length: 67991, dtype: int64"
      ]
     },
     "execution_count": 6,
     "metadata": {},
     "output_type": "execute_result"
    }
   ],
   "source": [
    "#album_id es un object, 375141 valores, 0 nans, dentro de los 375141 valores hay 67991 unicos, este es el total de albums que tenemos. 307150 valores repetidos\n",
    "#es el id del album de spoti\n",
    "\n",
    "spotify_features_data[\"album_id\"].value_counts()"
   ]
  },
  {
   "cell_type": "code",
   "execution_count": 7,
   "metadata": {},
   "outputs": [
    {
     "data": {
      "text/plain": [
       "album_name\n",
       "Nirvana                                         707\n",
       "Exodus                                          489\n",
       "Action                                          385\n",
       "Future                                          367\n",
       "Bach: St. John Passion                          305\n",
       "                                               ... \n",
       "Anti-Hero (Acoustic Version)                      1\n",
       "Christmas Tree Farm (Old Timey Version)           1\n",
       "You'Re Losing Me (From The Vault)                 1\n",
       "Love Story (Taylor'S Version) [Elvira Remix]      1\n",
       "Lover (First Dance Remix)                         1\n",
       "Name: count, Length: 61467, dtype: int64"
      ]
     },
     "execution_count": 7,
     "metadata": {},
     "output_type": "execute_result"
    }
   ],
   "source": [
    "#album_name, object, 375141 valores, 0 nans, 61468 valores unicos, 313673 repetidos\n",
    "# ¿Este dato no deberia ser igual a album_id?\n",
    "\n",
    "spotify_features_data[\"album_name\"].value_counts()"
   ]
  },
  {
   "cell_type": "code",
   "execution_count": 8,
   "metadata": {},
   "outputs": [
    {
     "data": {
      "text/plain": [
       "album_popularity\n",
       "0      74198\n",
       "1      34489\n",
       "2      20297\n",
       "3      15216\n",
       "4      11668\n",
       "       ...  \n",
       "100       22\n",
       "98        21\n",
       "97        17\n",
       "90        11\n",
       "93        10\n",
       "Name: count, Length: 99, dtype: int64"
      ]
     },
     "execution_count": 8,
     "metadata": {},
     "output_type": "execute_result"
    }
   ],
   "source": [
    "#album_popularity, entero, dato numerico, 375141 valores, no Nans, valores que van del 0 al 100, \n",
    "#Album más popular, más cercano a 100, más popular.\n",
    "\n",
    "spotify_features_data[\"album_popularity\"].value_counts()"
   ]
  },
  {
   "cell_type": "code",
   "execution_count": 9,
   "metadata": {},
   "outputs": [
    {
     "data": {
      "text/plain": [
       "album_type\n",
       "album     297589\n",
       "single     77552\n",
       "Name: count, dtype: int64"
      ]
     },
     "execution_count": 9,
     "metadata": {},
     "output_type": "execute_result"
    }
   ],
   "source": [
    "# album_type, object, 375141 valores, no tiene Nans, hay dos tipos: Album o single\n",
    "\n",
    "spotify_features_data[\"album_type\"].value_counts()"
   ]
  },
  {
   "cell_type": "code",
   "execution_count": 10,
   "metadata": {},
   "outputs": [
    {
     "data": {
      "text/plain": [
       "artists\n",
       "['The Karaoke Channel']                                       1769\n",
       "[\"Singer's Edge Karaoke\"]                                     1455\n",
       "['Raphael']                                                   1409\n",
       "['Johnny Cash']                                               1351\n",
       "['ProSound Karaoke Band']                                     1285\n",
       "                                                              ... \n",
       "['Yung Gunna Boi', 'Brick Wolfpack']                             1\n",
       "['Yung Gunna Boi', 'Yung City', 'Peso Peso', 'IDM T Wafe']       1\n",
       "['Yung Gunna Boi', 'Chief', 'Danny B', 'Luhh Ace']               1\n",
       "['Yung Gunna Boi', 'Chief Diddy', 'Luhh Ace']                    1\n",
       "['Acoustic Guitar']                                              1\n",
       "Name: count, Length: 66002, dtype: int64"
      ]
     },
     "execution_count": 10,
     "metadata": {},
     "output_type": "execute_result"
    }
   ],
   "source": [
    "#artists, object, 375141 valores, no tiene Nans, 66002 valores unicos, 309139 valores repetidos\n",
    "spotify_features_data[\"artists\"].value_counts()"
   ]
  },
  {
   "cell_type": "code",
   "execution_count": 11,
   "metadata": {},
   "outputs": [
    {
     "data": {
      "text/plain": [
       "artist_0\n",
       "Johann Sebastian Bach    2483\n",
       "Johnny Cash              1792\n",
       "The Karaoke Channel      1769\n",
       "Raphael                  1519\n",
       "Singer's Edge Karaoke    1455\n",
       "                         ... \n",
       "İsa İçen                    1\n",
       "Poncho Y Javi               1\n",
       "Wyatt Coleman               1\n",
       "VANITAS命死                   1\n",
       "4ep YungMuny                1\n",
       "Name: count, Length: 35112, dtype: int64"
      ]
     },
     "execution_count": 11,
     "metadata": {},
     "output_type": "execute_result"
    }
   ],
   "source": [
    "#artist_0, object, 375139 valores, 2 Nans, 35112 valores unicos, 340027 valores repetidos\n",
    "#esta columna hace referencia al artista\n",
    "\n",
    "spotify_features_data[\"artist_0\"].value_counts()"
   ]
  },
  {
   "cell_type": "code",
   "execution_count": 12,
   "metadata": {},
   "outputs": [
    {
     "data": {
      "text/plain": [
       "artist_1\n",
       "Sound Healing Center                      1445\n",
       "Choir of St. John's College, Cambridge     764\n",
       "Trap House Mafia                           453\n",
       "Snoop Dogg                                 410\n",
       "Lil Wayne                                  343\n",
       "                                          ... \n",
       "Kendo Kaponi                                 1\n",
       "Mambo Kingz                                  1\n",
       "Quimico Ultra Mega                           1\n",
       "Gabriela                                     1\n",
       "Eladio Carrion                               1\n",
       "Name: count, Length: 24641, dtype: int64"
      ]
     },
     "execution_count": 12,
     "metadata": {},
     "output_type": "execute_result"
    }
   ],
   "source": [
    "#artist_1, object, 87079 valores, 288062 Nans, 24641 valores unicos, 62438 repetidos\n",
    "# esta columna hace referencia a canciones que cantan dos artistas, esto significa que hay 87079 con dos artistas, por ejemplo una cancion del album Son Of Tabu es cantado por 'AB' y'Veeze'\n",
    "#valores repetidos es la cantidad total de artistas que cantan juntos varios temas\n",
    "\n",
    "spotify_features_data[\"artist_1\"].value_counts()"
   ]
  },
  {
   "cell_type": "code",
   "execution_count": 13,
   "metadata": {},
   "outputs": [
    {
     "data": {
      "text/plain": [
       "artist_2\n",
       "Sound Healing Center                   1300\n",
       "Hip Hop Type Beat                       453\n",
       "Andrew Nethsingha                       283\n",
       "Academy of St. Martin in the Fields     263\n",
       "New York Philharmonic                   219\n",
       "                                       ... \n",
       "ONSEEON                                   1\n",
       "Leo Sagrado                               1\n",
       "Coxenberg                                 1\n",
       "Twigg                                     1\n",
       "Kell Kay                                  1\n",
       "Name: count, Length: 9567, dtype: int64"
      ]
     },
     "execution_count": 13,
     "metadata": {},
     "output_type": "execute_result"
    }
   ],
   "source": [
    "#artist_2, object, 38300 valores, 336841 Nans, 9567 valores unicos, 28733 repetidos\n",
    "\n",
    "spotify_features_data[\"artist_2\"].value_counts()"
   ]
  },
  {
   "cell_type": "code",
   "execution_count": 14,
   "metadata": {},
   "outputs": [
    {
     "data": {
      "text/plain": [
       "artist_3\n",
       "George Guest                           199\n",
       "Academy of St. Martin in the Fields    156\n",
       "Sir Neville Marriner                   137\n",
       "India Fisher                           133\n",
       "Maggie Stables                         109\n",
       "                                      ... \n",
       "Mathew                                   1\n",
       "All Mayan Winik                          1\n",
       "Juicy J                                  1\n",
       "Lloyd Banks                              1\n",
       "Xzibit                                   1\n",
       "Name: count, Length: 3828, dtype: int64"
      ]
     },
     "execution_count": 14,
     "metadata": {},
     "output_type": "execute_result"
    }
   ],
   "source": [
    "#artist_3, object, 13823 valores, 361318 valores Nans, 3828 valores unicos, 9995 repetidos\n",
    "\n",
    "spotify_features_data[\"artist_3\"].value_counts()"
   ]
  },
  {
   "cell_type": "code",
   "execution_count": 15,
   "metadata": {},
   "outputs": [
    {
     "data": {
      "text/plain": [
       "artist_4\n",
       "Makoto Sakurada                        86\n",
       "Mark Padmore                           80\n",
       "Ingeborg Danz                          71\n",
       "George Guest                           66\n",
       "Academy of St. Martin in the Fields    63\n",
       "                                       ..\n",
       "Jay Bone                                1\n",
       "Sha Da God                              1\n",
       "Huncho                                  1\n",
       "Arcade D Button                         1\n",
       "Soul One                                1\n",
       "Name: count, Length: 1756, dtype: int64"
      ]
     },
     "execution_count": 15,
     "metadata": {},
     "output_type": "execute_result"
    }
   ],
   "source": [
    "#artist_4, object, 6087 valores, 369054 nulos, 1756 unicos, 4331 repetidos\n",
    "\n",
    "spotify_features_data[\"artist_4\"].value_counts()"
   ]
  },
  {
   "cell_type": "code",
   "execution_count": 16,
   "metadata": {},
   "outputs": [
    {
     "data": {
      "text/plain": [
       "artist_id\n",
       "5aIqB5nVVvmFsvSdExz408    2292\n",
       "6kACVPfCOnqzgfEF5ryl0x    1897\n",
       "5UloVKzUNJcjORzhhTWWiJ    1763\n",
       "3CtgjasLNN3Ym8SHm5JuJn    1455\n",
       "2o5jDhtHVPhrJdv3cEQ99Z    1442\n",
       "                          ... \n",
       "1Fx2qQrw6nSIZDe0yr6nGR       1\n",
       "52KgCdZCBgAse8sC2nscfi       1\n",
       "0WtuWklruiIIqO5Nwpd5I6       1\n",
       "3tIgVJ5DZ0RW3N7GM4PHSG       1\n",
       "2qv1mRVZMyj1EJJdJmrZ7s       1\n",
       "Name: count, Length: 31699, dtype: int64"
      ]
     },
     "execution_count": 16,
     "metadata": {},
     "output_type": "execute_result"
    }
   ],
   "source": [
    "#artist_id, object, 375141 valores, no nulos, 31699 valores unicos, 343442 repetidos \n",
    "\n",
    "spotify_features_data[\"artist_id\"].value_counts()"
   ]
  },
  {
   "cell_type": "code",
   "execution_count": 17,
   "metadata": {},
   "outputs": [
    {
     "data": {
      "text/plain": [
       "duration_sec\n",
       "0.000        2\n",
       "0.184        1\n",
       "0.737        1\n",
       "0.798        1\n",
       "0.850        1\n",
       "            ..\n",
       "5280.026     1\n",
       "7295.500     1\n",
       "12813.333    1\n",
       "17040.000    1\n",
       "17919.000    1\n",
       "Name: count, Length: 138290, dtype: int64"
      ]
     },
     "execution_count": 17,
     "metadata": {},
     "output_type": "execute_result"
    }
   ],
   "source": [
    "#duration_sec, float64, 375141 valores, no nulos, 138290 valores unicos, 236851 repetidos\n",
    "#el valor que mas se reppite son 120 segundos, hay alguna cancion que no tiene sentido su duracion, por ejemplo, 0 segundos:\n",
    "\n",
    "spotify_features_data[\"duration_sec\"].value_counts().sort_index()"
   ]
  },
  {
   "cell_type": "code",
   "execution_count": 18,
   "metadata": {},
   "outputs": [
    {
     "data": {
      "text/plain": [
       "label\n",
       "Sami Springs                   3395\n",
       "CC Entertainment               3197\n",
       "Columbia                       2316\n",
       "Legacy Recordings              2058\n",
       "Ameritz Music Ltd              2040\n",
       "                               ... \n",
       "Two Records                       1\n",
       "MEME TOKYO / TOY'S FACTORY        1\n",
       "Plaid Robot Recordings, LLC       1\n",
       "Dhoven Gards                      1\n",
       "Emone Skillz                      1\n",
       "Name: count, Length: 29638, dtype: int64"
      ]
     },
     "execution_count": 18,
     "metadata": {},
     "output_type": "execute_result"
    }
   ],
   "source": [
    "# label, object, 375117 valores, 24 nulos,  29639 unicos, 345478 repetidos\n",
    "#por los resultados que da, entiendo que esta columna se refiere al sello discografico.\n",
    "\n",
    "spotify_features_data[\"label\"].value_counts()"
   ]
  },
  {
   "cell_type": "code",
   "execution_count": 19,
   "metadata": {},
   "outputs": [
    {
     "data": {
      "text/plain": [
       "release_date\n",
       "1886-01-01 00:00:00 UTC     4\n",
       "1899-12-30 00:00:00 UTC    20\n",
       "1900-01-01 00:00:00 UTC    14\n",
       "1901-01-01 00:00:00 UTC    50\n",
       "1912-01-01 00:00:00 UTC    13\n",
       "                           ..\n",
       "2023-12-16 00:00:00 UTC    20\n",
       "2023-12-17 00:00:00 UTC    33\n",
       "2023-12-19 00:00:00 UTC     1\n",
       "2023-12-20 00:00:00 UTC    14\n",
       "2023-12-22 00:00:00 UTC     2\n",
       "Name: count, Length: 7503, dtype: int64"
      ]
     },
     "execution_count": 19,
     "metadata": {},
     "output_type": "execute_result"
    }
   ],
   "source": [
    "#release_date, object, 375119 valores, 22 nulos, 7503 unicos, 367616 repetidos\n",
    "# fecha de lanzamiento, la mas repetida es el 1/01/2008 y la mas antigua el 1/01/1886??, la mas reciente el 22/12/23\n",
    "\n",
    "spotify_features_data[\"release_date\"].value_counts().sort_index()"
   ]
  },
  {
   "cell_type": "code",
   "execution_count": 20,
   "metadata": {},
   "outputs": [
    {
     "data": {
      "text/plain": [
       "total_tracks\n",
       "1      34736\n",
       "10     30071\n",
       "12     27286\n",
       "11     19864\n",
       "14     18289\n",
       "       ...  \n",
       "214       50\n",
       "239       50\n",
       "229       50\n",
       "104       50\n",
       "150       50\n",
       "Name: count, Length: 151, dtype: int64"
      ]
     },
     "execution_count": 20,
     "metadata": {},
     "output_type": "execute_result"
    }
   ],
   "source": [
    "# total_tracks, entero, 375141 valores, no tiene Nans, 151 unicos, 374990 repetidos\n",
    "\n",
    "spotify_features_data[\"total_tracks\"].value_counts()"
   ]
  },
  {
   "cell_type": "code",
   "execution_count": 21,
   "metadata": {},
   "outputs": [
    {
     "data": {
      "text/plain": [
       "track_id\n",
       "6WZgeIZgy7iFSC25chloVu    1\n",
       "5JucnTkqh8uCZGggL1xxvv    1\n",
       "4VWrKNG3ssyZeboTgQ7Kj1    1\n",
       "6JsVrTLJPSOSpgJSnZyfSK    1\n",
       "7pZpw1xJWIavCUGqXPPriP    1\n",
       "                         ..\n",
       "4IzFhRLg0qK0XSpodSaNBH    1\n",
       "21EP4aM1ASi5fn43gPNes1    1\n",
       "5a4pBckTf3A0fXRwYRgi5p    1\n",
       "33vNTbQNZ3p6YGc876hAs1    1\n",
       "7wLWcD3FBZmpONLr8DkAKl    1\n",
       "Name: count, Length: 375141, dtype: int64"
      ]
     },
     "execution_count": 21,
     "metadata": {},
     "output_type": "execute_result"
    }
   ],
   "source": [
    "#track_id, object, 375141, valores, no Nnas, 375141 unicos, no valores repetidos\n",
    "\n",
    "spotify_features_data[\"track_id\"].value_counts()"
   ]
  },
  {
   "cell_type": "code",
   "execution_count": 22,
   "metadata": {},
   "outputs": [
    {
     "data": {
      "text/plain": [
       "track_name\n",
       "Intro                                                                      511\n",
       "Outro                                                                      161\n",
       "Home                                                                        98\n",
       "Stay                                                                        94\n",
       "Silent Night                                                                92\n",
       "                                                                          ... \n",
       "I Can See You (Taylor’S Version) (From The Vault)                            1\n",
       "White Horse - Instrumental With Bgv                                          1\n",
       "Electric Touch (Feat. Fall Out Boy) (Taylor’S Version) (From The Vault)      1\n",
       "You Need To Calm Down - Clean Bandit Remix                                   1\n",
       "Hey Stephen - Commentary                                                     1\n",
       "Name: count, Length: 275523, dtype: int64"
      ]
     },
     "execution_count": 22,
     "metadata": {},
     "output_type": "execute_result"
    }
   ],
   "source": [
    "#track_name, object, 375139 valores, 2 nulos,  275524 unicos, 99615 repetidos\n",
    "\n",
    "spotify_features_data[\"track_name\"].value_counts()"
   ]
  },
  {
   "cell_type": "code",
   "execution_count": 23,
   "metadata": {},
   "outputs": [
    {
     "data": {
      "text/plain": [
       "track_number\n",
       "1     67976\n",
       "2     33415\n",
       "3     28501\n",
       "4     25982\n",
       "5     24210\n",
       "6     22584\n",
       "7     20984\n",
       "8     19807\n",
       "9     18280\n",
       "10    16943\n",
       "11    13811\n",
       "12    11925\n",
       "13     9518\n",
       "14     8076\n",
       "15     6664\n",
       "16     5464\n",
       "17     4540\n",
       "18     3945\n",
       "19     3365\n",
       "20     2980\n",
       "21     2343\n",
       "22     2083\n",
       "23     1814\n",
       "24     1661\n",
       "25     1497\n",
       "26     1342\n",
       "27     1194\n",
       "28     1135\n",
       "29     1060\n",
       "30     1017\n",
       "31      858\n",
       "32      810\n",
       "33      743\n",
       "34      705\n",
       "35      667\n",
       "36      630\n",
       "37      602\n",
       "38      586\n",
       "39      571\n",
       "40      548\n",
       "41      481\n",
       "42      476\n",
       "43      457\n",
       "44      444\n",
       "45      442\n",
       "46      423\n",
       "47      414\n",
       "48      397\n",
       "49      392\n",
       "50      379\n",
       "Name: count, dtype: int64"
      ]
     },
     "execution_count": 23,
     "metadata": {},
     "output_type": "execute_result"
    }
   ],
   "source": [
    "#track_number, enteros, 375141, no Nnas, 50 valores uniso, 375091 repetidos\n",
    "#valores de 1 al 50. SI me meto dentro del album de spotify, que posicion ocupa la canción. SIgue un patrón, la mas escuchada es la que aparece de numero 1 y la menos la 50\n",
    "\n",
    "spotify_features_data[\"track_number\"].value_counts()"
   ]
  },
  {
   "cell_type": "code",
   "execution_count": 24,
   "metadata": {},
   "outputs": [
    {
     "data": {
      "text/plain": [
       "artist_genres\n",
       "[]                                                           165278\n",
       "['karaoke']                                                   15344\n",
       "['baroque', 'classical', 'early music', 'german baroque']      2292\n",
       "['workout product']                                            2039\n",
       "['arkansas country', 'outlaw country', 'rock']                 1897\n",
       "                                                              ...  \n",
       "['cornwall indie']                                                1\n",
       "['renaissance', 'spanish renaissance']                            1\n",
       "['hong kong tv drama']                                            1\n",
       "['black punk']                                                    1\n",
       "['turkmen pop']                                                   1\n",
       "Name: count, Length: 5993, dtype: int64"
      ]
     },
     "execution_count": 24,
     "metadata": {},
     "output_type": "execute_result"
    }
   ],
   "source": [
    "#artist_genres, object, 375141 valores, no Nans, 5993 unicos, 369148 repetidos.\n",
    "#Ojo aquí hay 1650278 valores que aparecen en blanco.\n",
    "# Tenemos 209863 que realmente están etiquetados. \n",
    "#entiendo que los valores en blanco es porque no están etiquetados dentro de spoti.\n",
    "#Ojo, un artista puede estar etiquetado dentro de varios generos.\n",
    "\n",
    "spotify_features_data[\"artist_genres\"].value_counts()"
   ]
  },
  {
   "cell_type": "code",
   "execution_count": 25,
   "metadata": {},
   "outputs": [
    {
     "data": {
      "text/plain": [
       "209863"
      ]
     },
     "execution_count": 25,
     "metadata": {},
     "output_type": "execute_result"
    }
   ],
   "source": [
    "375141 - 165278 #estos son los datos que nos quedariamos si eliminamos lo que quedan en blanco"
   ]
  },
  {
   "cell_type": "code",
   "execution_count": 26,
   "metadata": {},
   "outputs": [
    {
     "data": {
      "text/plain": [
       "artist_popularity\n",
       "0      46397\n",
       "1      16746\n",
       "2      10475\n",
       "3       8447\n",
       "4       8699\n",
       "       ...  \n",
       "89      1009\n",
       "90       403\n",
       "93       407\n",
       "95       785\n",
       "100      938\n",
       "Name: count, Length: 94, dtype: int64"
      ]
     },
     "execution_count": 26,
     "metadata": {},
     "output_type": "execute_result"
    }
   ],
   "source": [
    "#artist_popularity, int, 375141 valores, no Nans, 94 valores unicos, 375047 repetidos\n",
    "#Los valores comprenden entre el 0-100, más cercano a 100, más popular el artista.\n",
    "\n",
    "spotify_features_data[\"artist_popularity\"].value_counts().sort_index()"
   ]
  },
  {
   "cell_type": "code",
   "execution_count": 27,
   "metadata": {},
   "outputs": [
    {
     "data": {
      "text/plain": [
       "followers\n",
       "0            3009\n",
       "1            2001\n",
       "2            1713\n",
       "3            1467\n",
       "4            1539\n",
       "             ... \n",
       "95741850       18\n",
       "95859165      938\n",
       "115998928       6\n",
       "116016052       6\n",
       "116035640       2\n",
       "Name: count, Length: 12001, dtype: int64"
      ]
     },
     "execution_count": 27,
     "metadata": {},
     "output_type": "execute_result"
    }
   ],
   "source": [
    "# followers, int, 375141 valores, 12001 valores unicos, no Nans, 363140 valores repetidos\n",
    "# Hay 3009 datos que aparecen con 0 followers\n",
    "# Mas escuchado es nirvana.\n",
    "\n",
    "spotify_features_data[\"followers\"].value_counts().sort_index()"
   ]
  },
  {
   "cell_type": "code",
   "execution_count": 28,
   "metadata": {},
   "outputs": [
    {
     "data": {
      "text/plain": [
       "name\n",
       "Johann Sebastian Bach    2292\n",
       "Johnny Cash              1897\n",
       "The Karaoke Channel      1763\n",
       "Raphael                  1521\n",
       "Singer's Edge Karaoke    1455\n",
       "                         ... \n",
       "Rapper Big Deal             1\n",
       "The Third-Rates             1\n",
       "Alessandra Arena            1\n",
       "Anthony & Jeremy            1\n",
       "Cherry Moon Trax            1\n",
       "Name: count, Length: 30948, dtype: int64"
      ]
     },
     "execution_count": 28,
     "metadata": {},
     "output_type": "execute_result"
    }
   ],
   "source": [
    "#name, object, 375141 valores, no Nans, 30948 valores unicos, 344193 valores repetidos\n",
    "\n",
    "spotify_features_data[\"name\"].value_counts()"
   ]
  },
  {
   "cell_type": "code",
   "execution_count": 29,
   "metadata": {},
   "outputs": [
    {
     "data": {
      "text/plain": [
       "genre_0\n",
       "odia pop                   1\n",
       "rap sergipano              1\n",
       "malaysian tamil rap        1\n",
       "dweilorkest                1\n",
       "slc indie                  1\n",
       "                       ...  \n",
       "baroque                 3421\n",
       "album rock              3707\n",
       "classical               3848\n",
       "dance pop               4496\n",
       "karaoke                15344\n",
       "Name: count, Length: 3008, dtype: int64"
      ]
     },
     "execution_count": 29,
     "metadata": {},
     "output_type": "execute_result"
    }
   ],
   "source": [
    "# genre_0, object, 209863 valores, 165278Nans, 3008 valores unicos, 206855 repetidos\n",
    "\n",
    "spotify_features_data[\"genre_0\"].value_counts().sort_values()"
   ]
  },
  {
   "cell_type": "code",
   "execution_count": 30,
   "metadata": {},
   "outputs": [
    {
     "data": {
      "text/plain": [
       "44585"
      ]
     },
     "execution_count": 30,
     "metadata": {},
     "output_type": "execute_result"
    }
   ],
   "source": [
    "209863 - 165278 #estos son el numero total de datos que nos quedariamos si eliminasemos los nan de nenero"
   ]
  },
  {
   "cell_type": "code",
   "execution_count": 31,
   "metadata": {},
   "outputs": [],
   "source": [
    "#genre_1,2,3 y 4 abarcan mas de un genero."
   ]
  },
  {
   "cell_type": "code",
   "execution_count": 32,
   "metadata": {},
   "outputs": [
    {
     "data": {
      "text/plain": [
       "acousticness\n",
       "0.995000    2007\n",
       "0.994000    1688\n",
       "0.993000    1644\n",
       "0.992000    1605\n",
       "0.991000    1356\n",
       "            ... \n",
       "0.000009       1\n",
       "0.000003       1\n",
       "0.000010       1\n",
       "0.000008       1\n",
       "0.000010       1\n",
       "Name: count, Length: 5242, dtype: int64"
      ]
     },
     "execution_count": 32,
     "metadata": {},
     "output_type": "execute_result"
    }
   ],
   "source": [
    "#acousticness, float, 374364 valores, 777 Nans, 5242 valores unicos, 369122 repetidos\n",
    "#Variable que va de 0 a 1, indica nivel de confianza de que la cancion sea acustica.\n",
    "\n",
    "spotify_features_data[\"acousticness\"].value_counts()"
   ]
  },
  {
   "cell_type": "code",
   "execution_count": 33,
   "metadata": {},
   "outputs": [
    {
     "data": {
      "text/plain": [
       "analysis_url\n",
       "https://api.spotify.com/v1/audio-analysis/6WZgeIZgy7iFSC25chloVu    1\n",
       "https://api.spotify.com/v1/audio-analysis/5JucnTkqh8uCZGggL1xxvv    1\n",
       "https://api.spotify.com/v1/audio-analysis/4VWrKNG3ssyZeboTgQ7Kj1    1\n",
       "https://api.spotify.com/v1/audio-analysis/6JsVrTLJPSOSpgJSnZyfSK    1\n",
       "https://api.spotify.com/v1/audio-analysis/7pZpw1xJWIavCUGqXPPriP    1\n",
       "                                                                   ..\n",
       "https://api.spotify.com/v1/audio-analysis/5oqTUCIkhzjkmvhj1ZMkMz    1\n",
       "https://api.spotify.com/v1/audio-analysis/7CPhQbX7GxiSOH5hBC69SW    1\n",
       "https://api.spotify.com/v1/audio-analysis/4vTzuIgQa5Mfof1nrFiDRQ    1\n",
       "https://api.spotify.com/v1/audio-analysis/7yHXvLEzrVHrIytPhY0RiJ    1\n",
       "https://api.spotify.com/v1/audio-analysis/5JgoLJ5o0EPeynIIGPNjtM    1\n",
       "Name: count, Length: 374364, dtype: int64"
      ]
     },
     "execution_count": 33,
     "metadata": {},
     "output_type": "execute_result"
    }
   ],
   "source": [
    "#analysis_url, object, 374364 valores, 777 Nans, 374364 unicos, no valores repetidos.\n",
    "\n",
    "spotify_features_data[\"analysis_url\"].value_counts()"
   ]
  },
  {
   "cell_type": "code",
   "execution_count": 34,
   "metadata": {},
   "outputs": [
    {
     "data": {
      "text/plain": [
       "danceability\n",
       "0.0000    546\n",
       "0.0167      1\n",
       "0.0236      1\n",
       "0.0492      1\n",
       "0.0532      1\n",
       "         ... \n",
       "0.9880      7\n",
       "0.9890      3\n",
       "0.9920      2\n",
       "0.9930      1\n",
       "0.9990      1\n",
       "Name: count, Length: 1327, dtype: int64"
      ]
     },
     "execution_count": 34,
     "metadata": {},
     "output_type": "execute_result"
    }
   ],
   "source": [
    "#danceability, float, 374364 valores, 777 Nans, 1327 unicos, 373037 repetidos.\n",
    "#Valores que van del 0 al 1 e indican cuanto de bailable es una cancion.\n",
    "\n",
    "spotify_features_data[\"danceability\"].value_counts().sort_index()\n"
   ]
  },
  {
   "cell_type": "code",
   "execution_count": 35,
   "metadata": {},
   "outputs": [
    {
     "data": {
      "text/plain": [
       "duration_ms\n",
       "120000.0    1585\n",
       "192000.0     340\n",
       "240000.0     295\n",
       "180000.0     272\n",
       "60000.0      187\n",
       "            ... \n",
       "77833.0        1\n",
       "55289.0        1\n",
       "311765.0       1\n",
       "189509.0       1\n",
       "62377.0        1\n",
       "Name: count, Length: 137997, dtype: int64"
      ]
     },
     "execution_count": 35,
     "metadata": {},
     "output_type": "execute_result"
    }
   ],
   "source": [
    "#duration_ms, float, 374364 valroes, 777 Nans, 137997 valores unicos, 236367 repetidos\n",
    "#Indica el tiempo que dura la cancion en milisegundos\n",
    "spotify_features_data[\"duration_ms\"].value_counts()"
   ]
  },
  {
   "cell_type": "code",
   "execution_count": 36,
   "metadata": {},
   "outputs": [
    {
     "data": {
      "text/plain": [
       "energy\n",
       "0.539000    568\n",
       "0.640000    566\n",
       "0.562000    554\n",
       "0.662000    547\n",
       "0.528000    546\n",
       "           ... \n",
       "0.000638      1\n",
       "0.007910      1\n",
       "0.000020      1\n",
       "0.000245      1\n",
       "0.000126      1\n",
       "Name: count, Length: 2918, dtype: int64"
      ]
     },
     "execution_count": 36,
     "metadata": {},
     "output_type": "execute_result"
    }
   ],
   "source": [
    "#energy, float, 374364 valores, 777 Nans, 2918 valores unicos, 371446 repetidos\n",
    "# Valores del 0 al 1.\n",
    "#Indica la energía de la canción, más proximo a 1 más energía tiene la cancion, más proximo a 0 menos,\n",
    "spotify_features_data[\"energy\"].value_counts()"
   ]
  },
  {
   "cell_type": "code",
   "execution_count": 37,
   "metadata": {},
   "outputs": [
    {
     "data": {
      "text/plain": [
       "instrumentalness\n",
       "0.000000    108294\n",
       "0.932000       674\n",
       "0.910000       655\n",
       "0.915000       652\n",
       "0.925000       646\n",
       "             ...  \n",
       "0.008750         4\n",
       "0.009670         4\n",
       "0.008450         3\n",
       "0.009930         3\n",
       "0.000096         3\n",
       "Name: count, Length: 5402, dtype: int64"
      ]
     },
     "execution_count": 37,
     "metadata": {},
     "output_type": "execute_result"
    }
   ],
   "source": [
    "#instrumentalness, float, 374364 valores, 777 Nans, 5402 unicos, 368962 repetidos.\n",
    "# Valores del 0 al 1.\n",
    "# Valores más cercanos a 1 indican que la cancion es mas instrumental y los mas cercanos a 0, menos intriçumental.\n",
    "\n",
    "spotify_features_data[\"instrumentalness\"].value_counts()"
   ]
  },
  {
   "cell_type": "code",
   "execution_count": 38,
   "metadata": {},
   "outputs": [
    {
     "data": {
      "text/plain": [
       "key\n",
       "0.0     43670\n",
       "1.0     39389\n",
       "2.0     37951\n",
       "3.0     12874\n",
       "4.0     27586\n",
       "5.0     31666\n",
       "6.0     23403\n",
       "7.0     42404\n",
       "8.0     24049\n",
       "9.0     36151\n",
       "10.0    26971\n",
       "11.0    28250\n",
       "Name: count, dtype: int64"
      ]
     },
     "execution_count": 38,
     "metadata": {},
     "output_type": "execute_result"
    }
   ],
   "source": [
    "#  key, float, 374364 valores, 777 key, 12 valores unicos, 374352 repetidos\n",
    "# valores que van del 0 al 11 \n",
    "#Canciones con bajo key suenan más graves, mientras que con alto key suenan más agudos.\n",
    "spotify_features_data[\"key\"].value_counts().sort_index()"
   ]
  },
  {
   "cell_type": "code",
   "execution_count": 39,
   "metadata": {},
   "outputs": [
    {
     "data": {
      "text/plain": [
       "liveness\n",
       "0.11100    5634\n",
       "0.11000    5101\n",
       "0.10900    4783\n",
       "0.11200    4600\n",
       "0.10800    4574\n",
       "           ... \n",
       "0.01370       1\n",
       "0.02010       1\n",
       "0.00909       1\n",
       "0.01510       1\n",
       "0.00936       1\n",
       "Name: count, Length: 1769, dtype: int64"
      ]
     },
     "execution_count": 39,
     "metadata": {},
     "output_type": "execute_result"
    }
   ],
   "source": [
    "#liveness, float, 374364 valores, 777 Nans, 1769 unicos, 372595 repetidos.\n",
    "#Valores del 0 a 1\n",
    "#Indica la probabilidad de que la cancion haya sido grabada en vivo. Valores mas cercanos a 1 mas probable en vivo.\n",
    "spotify_features_data[\"liveness\"].value_counts()"
   ]
  },
  {
   "cell_type": "code",
   "execution_count": 40,
   "metadata": {},
   "outputs": [
    {
     "data": {
      "text/plain": [
       "loudness\n",
       "-60.000    23\n",
       "-58.780     1\n",
       "-58.188     1\n",
       "-57.929     1\n",
       "-57.579     1\n",
       "           ..\n",
       " 2.801      1\n",
       " 2.853      1\n",
       " 2.868      1\n",
       " 3.053      1\n",
       " 3.744      1\n",
       "Name: count, Length: 32916, dtype: int64"
      ]
     },
     "execution_count": 40,
     "metadata": {},
     "output_type": "execute_result"
    }
   ],
   "source": [
    "#loudness, float, 374364 valores, 777 Nans, 32916 valores unicos, 341448 repetidos.\n",
    "#valores que van de -60 a 3.\n",
    "#La presencia de ruido en decibeles (dB), \n",
    "#este valor es el promedio de la cancion\n",
    "\n",
    "spotify_features_data[\"loudness\"].value_counts().sort_index()"
   ]
  },
  {
   "cell_type": "code",
   "execution_count": 41,
   "metadata": {},
   "outputs": [
    {
     "data": {
      "text/plain": [
       "mode\n",
       "1.0    238837\n",
       "0.0    135527\n",
       "Name: count, dtype: int64"
      ]
     },
     "execution_count": 41,
     "metadata": {},
     "output_type": "execute_result"
    }
   ],
   "source": [
    "#mode, float, 374364 valores, 777 Nans, 2 valores unicos.\n",
    "# valores de 0 y 1\n",
    "# Indica la modalidad (mayor o menor) de una canción, el tipo de escala del que se deriva su contenido melódico. La mayor se representa con 1 y la menor con 0.\n",
    "\n",
    "spotify_features_data[\"mode\"].value_counts()"
   ]
  },
  {
   "cell_type": "code",
   "execution_count": 42,
   "metadata": {},
   "outputs": [
    {
     "data": {
      "text/plain": [
       "speechiness\n",
       "0.0000    545\n",
       "0.0217      1\n",
       "0.0218      1\n",
       "0.0221      2\n",
       "0.0222      2\n",
       "         ... \n",
       "0.9660     45\n",
       "0.9670     37\n",
       "0.9680     17\n",
       "0.9690      1\n",
       "0.9700      2\n",
       "Name: count, Length: 1653, dtype: int64"
      ]
     },
     "execution_count": 42,
     "metadata": {},
     "output_type": "execute_result"
    }
   ],
   "source": [
    "#speechiness, float, 374364 valores, 777 Nans, 1653 unicos, 372711 iguales.\n",
    "#elementos de 0 a 1\n",
    "#inidca la presencia de palabras, mayores palabras puede indicar que se trata de un audiolibro, podcast etc.\n",
    "\n",
    "spotify_features_data[\"speechiness\"].value_counts().sort_index()"
   ]
  },
  {
   "cell_type": "code",
   "execution_count": 43,
   "metadata": {},
   "outputs": [
    {
     "data": {
      "text/plain": [
       "tempo\n",
       "0.000      545\n",
       "120.001    139\n",
       "120.008    133\n",
       "119.999    125\n",
       "120.003    123\n",
       "          ... \n",
       "62.327       1\n",
       "150.361      1\n",
       "88.490       1\n",
       "135.503      1\n",
       "98.211       1\n",
       "Name: count, Length: 101940, dtype: int64"
      ]
     },
     "execution_count": 43,
     "metadata": {},
     "output_type": "execute_result"
    }
   ],
   "source": [
    "#tempo, float, 374364 valores, 777 Nans, 101940 unicos, 272424 diferentes.\n",
    "#indica la velocidad de una cancion.\n",
    "\n",
    "spotify_features_data[\"tempo\"].value_counts()"
   ]
  },
  {
   "cell_type": "code",
   "execution_count": 44,
   "metadata": {},
   "outputs": [
    {
     "data": {
      "text/plain": [
       "time_signature\n",
       "4.0    317462\n",
       "3.0     40062\n",
       "5.0     11004\n",
       "1.0      5288\n",
       "0.0       548\n",
       "Name: count, dtype: int64"
      ]
     },
     "execution_count": 44,
     "metadata": {},
     "output_type": "execute_result"
    }
   ],
   "source": [
    "#time_signature, float, 374364 valores, 777 Nans, 5 unicso.\n",
    "#Indica La notación convencional que indica cuantos beats hay en cada bar. Se escriben únicamente los numeradores, ya que el denominador es 4. Por ejemplo, \"4/4\" o \"7/4\"\n",
    "\n",
    "spotify_features_data[\"time_signature\"].value_counts()"
   ]
  },
  {
   "cell_type": "code",
   "execution_count": 45,
   "metadata": {},
   "outputs": [
    {
     "data": {
      "text/plain": [
       "track_href\n",
       "https://api.spotify.com/v1/tracks/6WZgeIZgy7iFSC25chloVu    1\n",
       "https://api.spotify.com/v1/tracks/5JucnTkqh8uCZGggL1xxvv    1\n",
       "https://api.spotify.com/v1/tracks/4VWrKNG3ssyZeboTgQ7Kj1    1\n",
       "https://api.spotify.com/v1/tracks/6JsVrTLJPSOSpgJSnZyfSK    1\n",
       "https://api.spotify.com/v1/tracks/7pZpw1xJWIavCUGqXPPriP    1\n",
       "                                                           ..\n",
       "https://api.spotify.com/v1/tracks/5oqTUCIkhzjkmvhj1ZMkMz    1\n",
       "https://api.spotify.com/v1/tracks/7CPhQbX7GxiSOH5hBC69SW    1\n",
       "https://api.spotify.com/v1/tracks/4vTzuIgQa5Mfof1nrFiDRQ    1\n",
       "https://api.spotify.com/v1/tracks/7yHXvLEzrVHrIytPhY0RiJ    1\n",
       "https://api.spotify.com/v1/tracks/5JgoLJ5o0EPeynIIGPNjtM    1\n",
       "Name: count, Length: 374364, dtype: int64"
      ]
     },
     "execution_count": 45,
     "metadata": {},
     "output_type": "execute_result"
    }
   ],
   "source": [
    "#track_href, object, 374364 valores, 777 Nans, 374364 son todos lçvaloers unicos.\n",
    "\n",
    "spotify_features_data[\"track_href\"].value_counts()"
   ]
  },
  {
   "cell_type": "code",
   "execution_count": 46,
   "metadata": {},
   "outputs": [
    {
     "data": {
      "text/plain": [
       "type\n",
       "audio_features    374364\n",
       "Name: count, dtype: int64"
      ]
     },
     "execution_count": 46,
     "metadata": {},
     "output_type": "execute_result"
    }
   ],
   "source": [
    "#type, object, 374364 valores, 777 Nans, 1 valor unico.\n",
    "\n",
    "spotify_features_data[\"type\"].value_counts()"
   ]
  },
  {
   "cell_type": "code",
   "execution_count": 47,
   "metadata": {},
   "outputs": [
    {
     "data": {
      "text/plain": [
       "uri\n",
       "spotify:track:6WZgeIZgy7iFSC25chloVu    1\n",
       "spotify:track:5JucnTkqh8uCZGggL1xxvv    1\n",
       "spotify:track:4VWrKNG3ssyZeboTgQ7Kj1    1\n",
       "spotify:track:6JsVrTLJPSOSpgJSnZyfSK    1\n",
       "spotify:track:7pZpw1xJWIavCUGqXPPriP    1\n",
       "                                       ..\n",
       "spotify:track:5oqTUCIkhzjkmvhj1ZMkMz    1\n",
       "spotify:track:7CPhQbX7GxiSOH5hBC69SW    1\n",
       "spotify:track:4vTzuIgQa5Mfof1nrFiDRQ    1\n",
       "spotify:track:7yHXvLEzrVHrIytPhY0RiJ    1\n",
       "spotify:track:5JgoLJ5o0EPeynIIGPNjtM    1\n",
       "Name: count, Length: 374364, dtype: int64"
      ]
     },
     "execution_count": 47,
     "metadata": {},
     "output_type": "execute_result"
    }
   ],
   "source": [
    "#uri, object, 374364 valores, 777 Nans, 374364 unicos (todo valores unicos)\n",
    "\n",
    "spotify_features_data[\"uri\"].value_counts()"
   ]
  },
  {
   "cell_type": "code",
   "execution_count": 48,
   "metadata": {},
   "outputs": [
    {
     "data": {
      "text/plain": [
       "valence\n",
       "0.000000     845\n",
       "0.000010    1278\n",
       "0.000022       1\n",
       "0.000087       1\n",
       "0.000115       1\n",
       "            ... \n",
       "0.996000       5\n",
       "0.997000       7\n",
       "0.998000       3\n",
       "0.999000       6\n",
       "1.000000      23\n",
       "Name: count, Length: 2043, dtype: int64"
      ]
     },
     "execution_count": 48,
     "metadata": {},
     "output_type": "execute_result"
    }
   ],
   "source": [
    "# valence, float, 374364, 777 Nans, 2043 unicos, 372321 repetidos\n",
    "#Describe la positividad de la canción. Valores altos indican mayor positividad (alegría, euforia, ánimos) y valores bajos indican más negatividad (tristeza, etc)\n",
    "\n",
    "spotify_features_data[\"valence\"].value_counts().sort_index()"
   ]
  },
  {
   "cell_type": "code",
   "execution_count": 49,
   "metadata": {},
   "outputs": [
    {
     "data": {
      "text/plain": [
       "explicit\n",
       "False    316732\n",
       "True      58399\n",
       "Name: count, dtype: int64"
      ]
     },
     "execution_count": 49,
     "metadata": {},
     "output_type": "execute_result"
    }
   ],
   "source": [
    "#explicit, object, 375131 valores, 10 Nans, 2 valores únicos.\n",
    "#creo que significa contenido explicito (lenguaje ofensivo, insultos...)\n",
    "\n",
    "spotify_features_data[\"explicit\"].value_counts()"
   ]
  },
  {
   "cell_type": "code",
   "execution_count": 50,
   "metadata": {},
   "outputs": [
    {
     "data": {
      "text/plain": [
       "track_popularity\n",
       "0.0     147239\n",
       "1.0      28123\n",
       "2.0      17820\n",
       "3.0      13677\n",
       "4.0      10675\n",
       "         ...  \n",
       "95.0         1\n",
       "96.0         1\n",
       "97.0         1\n",
       "98.0         1\n",
       "99.0         2\n",
       "Name: count, Length: 100, dtype: int64"
      ]
     },
     "execution_count": 50,
     "metadata": {},
     "output_type": "execute_result"
    }
   ],
   "source": [
    "#track_popularity, float, 375131 valores, 10 Nans, 100 valores unicos\n",
    "#valores del 0 al 100, siendo 100 el más popular . La popularidad se calcula mediante un algoritmo y se basa, en su mayor parte, en el número total de reproducciones que ha tenido la pista y en lo recientes que son esas reproduccione\n",
    "\n",
    "spotify_features_data[\"track_popularity\"].value_counts().sort_index()"
   ]
  },
  {
   "cell_type": "code",
   "execution_count": 51,
   "metadata": {},
   "outputs": [
    {
     "data": {
      "text/plain": [
       "release_year\n",
       "2023.0    58986\n",
       "2022.0    36940\n",
       "2021.0    25990\n",
       "2020.0    24261\n",
       "2019.0    18842\n",
       "          ...  \n",
       "1942.0       11\n",
       "1954.0       10\n",
       "1929.0        7\n",
       "1948.0        6\n",
       "1886.0        4\n",
       "Name: count, Length: 85, dtype: int64"
      ]
     },
     "execution_count": 51,
     "metadata": {},
     "output_type": "execute_result"
    }
   ],
   "source": [
    "# release_year, float , 375119 valores, 22 Nans, 85 unicas\n",
    "# año de lanzamiento, siendo 1886 la mas antigua y 2023 la mas reciente.\n",
    "\n",
    "spotify_features_data[\"release_year\"].value_counts()"
   ]
  },
  {
   "cell_type": "code",
   "execution_count": 52,
   "metadata": {},
   "outputs": [
    {
     "data": {
      "text/plain": [
       "release_month\n",
       "January      63888\n",
       "November     36295\n",
       "October      34846\n",
       "September    30097\n",
       "July         28528\n",
       "June         27756\n",
       "August       27429\n",
       "March        27044\n",
       "May          26022\n",
       "April        25698\n",
       "December     25017\n",
       "February     22499\n",
       "Name: count, dtype: int64"
      ]
     },
     "execution_count": 52,
     "metadata": {},
     "output_type": "execute_result"
    }
   ],
   "source": [
    "#release_month, object, 375119 valores, 22 Nans, 12 valores unicos\n",
    "#mes de lanzamiento\n",
    "\n",
    "spotify_features_data[\"release_month\"].value_counts()"
   ]
  },
  {
   "cell_type": "code",
   "execution_count": 53,
   "metadata": {},
   "outputs": [
    {
     "data": {
      "text/plain": [
       "rn\n",
       "1    375141\n",
       "Name: count, dtype: int64"
      ]
     },
     "execution_count": 53,
     "metadata": {},
     "output_type": "execute_result"
    }
   ],
   "source": [
    "#rn, int, 375141 valores 0 Nans, 1 dato unico\n",
    "\n",
    "spotify_features_data[\"rn\"].value_counts()"
   ]
  },
  {
   "cell_type": "code",
   "execution_count": 54,
   "metadata": {},
   "outputs": [
    {
     "data": {
      "image/png": "[encoded data removed]",
      "text/plain": [
       "<Figure size 1200x700 with 2 Axes>"
      ]
     },
     "metadata": {},
     "output_type": "display_data"
    }
   ],
   "source": [
    "# Graficamos los NaN:\n",
    "\n",
    "plt.figure(figsize = (12,7))\n",
    "sns.heatmap(spotify_features_data.isna())\n",
    "plt.savefig('grafica_nan.png')\n",
    "plt.show()\n",
    "\n"
   ]
  },
  {
   "cell_type": "markdown",
   "metadata": {},
   "source": [
    "### Comenzamos a modificar el DataFrame según las conclusiones tras observar las variables"
   ]
  },
  {
   "cell_type": "code",
   "execution_count": 55,
   "metadata": {
    "tags": []
   },
   "outputs": [
    {
     "name": "stdout",
     "output_type": "stream",
     "text": [
      "<class 'pandas.core.frame.DataFrame'>\n",
      "Index: 13402 entries, 334 to 374832\n",
      "Data columns (total 2 columns):\n",
      " #   Column     Non-Null Count  Dtype \n",
      "---  ------     --------------  ----- \n",
      " 0   artist_id  13402 non-null  object\n",
      " 1   artists    13402 non-null  object\n",
      "dtypes: object(2)\n",
      "memory usage: 314.1+ KB\n"
     ]
    }
   ],
   "source": [
    "# Decidimos que las columnas relevantes son las siguientes: \n",
    "columnas_relevantes = ['album_id', 'album_name', 'album_popularity', 'genre_0',\n",
    "                       'album_type', 'artists', 'artist_id', 'duration_sec', \n",
    "                       'track_id', 'track_name', 'artist_genres', 'artist_popularity', \n",
    "                       'name', 'acousticness', 'danceability', 'energy', \n",
    "                       'instrumentalness', 'key', 'liveness', 'loudness', \n",
    "                       'mode', 'speechiness', 'tempo', 'time_signature', \n",
    "                       'uri', 'valence', 'explicit', 'track_popularity', 'followers']\n",
    "\n",
    "# Creamos una copia con las columnas relevantes y sin nan\n",
    "spotify_features_data_reducido = spotify_features_data[columnas_relevantes].copy().dropna()\n",
    "\n",
    "spotify_features_data_reducido[\"artists\"] = spotify_features_data_reducido[\"artists\"].apply(lambda x : eval(x)[0].lower())\n",
    "\n",
    "# Creamos un DataFrame con Artista_id y el nombre del artista con los id unicos\n",
    "data = pd.DataFrame({\"artist_id\": spotify_features_data_reducido[\"artist_id\"],\n",
    "                     \"artists\" : spotify_features_data_reducido[\"artists\"]})\n",
    "data = data.drop_duplicates()\n",
    "\n",
    "# Creamos un DataFrame con los valores no numéricos/ no comparables/relevantes\n",
    "columnas_objetos = ['album_id', 'album_name', 'duration_sec', 'album_popularity', 'album_type',\n",
    "                    'artists', 'artist_popularity', 'tempo', 'artist_id', 'track_id', 'track_name', \n",
    "                    'artist_genres', 'name', 'uri', 'time_signature', 'explicit', 'track_popularity']\n",
    "spotify_datos = spotify_features_data_reducido[columnas_objetos].copy()\n",
    "\n",
    "data.info()"
   ]
  },
  {
   "cell_type": "markdown",
   "metadata": {
    "tags": []
   },
   "source": [
    "### Gráfico inicial mostrando followers vs artista"
   ]
  },
  {
   "cell_type": "code",
   "execution_count": 56,
   "metadata": {
    "tags": []
   },
   "outputs": [],
   "source": [
    "follower_top_inicial = pd.DataFrame({\"followers\": spotify_features_data_reducido[\"followers\"],\n",
    "                     \"artists\" : spotify_features_data_reducido[\"artists\"]})\n",
    "follower_top_inicial = follower_top_inicial.drop_duplicates(\"artists\")\n",
    "follower_top_inicial = follower_top_inicial.sort_values(by = \"followers\", ascending = False)\n",
    "follower_top_inicial = follower_top_inicial.head(10)"
   ]
  },
  {
   "cell_type": "code",
   "execution_count": 57,
   "metadata": {
    "tags": []
   },
   "outputs": [
    {
     "data": {
      "image/png": "[encoded data removed]",
      "text/plain": [
       "<Figure size 1200x600 with 1 Axes>"
      ]
     },
     "metadata": {},
     "output_type": "display_data"
    }
   ],
   "source": [
    "plt.figure(figsize=(12,6))\n",
    "ax = sns.barplot(x='artists', y='followers', data=follower_top_inicial)\n",
    "plt.xticks(rotation=90)\n",
    "for bar in ax.patches:\n",
    "    ax.annotate(format(bar.get_height(), '.2f'), \n",
    "                   (bar.get_x() + bar.get_width() / 2, \n",
    "                    bar.get_height()), ha='center', va='bottom',\n",
    "                   textcoords='offset points', xytext=(0,10),\n",
    "                   fontsize=8)\n",
    "\n",
    "plt.show()\n"
   ]
  },
  {
   "cell_type": "markdown",
   "metadata": {},
   "source": [
    "### Gráfica popularity vs artista"
   ]
  },
  {
   "cell_type": "code",
   "execution_count": 58,
   "metadata": {
    "tags": []
   },
   "outputs": [],
   "source": [
    "popularity_top_inicial = pd.DataFrame({\"artist_popularity\": spotify_features_data_reducido[\"artist_popularity\"],\n",
    "                     \"artists\" : spotify_features_data_reducido[\"artists\"]})\n",
    "popularity_top_inicial = popularity_top_inicial.drop_duplicates(\"artists\")\n",
    "popularity_top_inicial = popularity_top_inicial.sort_values(by = \"artist_popularity\", ascending = False)\n",
    "popularity_top_inicial = popularity_top_inicial.head(10)"
   ]
  },
  {
   "cell_type": "code",
   "execution_count": 59,
   "metadata": {
    "tags": []
   },
   "outputs": [
    {
     "data": {
      "image/png": "[encoded data removed]",
      "text/plain": [
       "<Figure size 1200x600 with 1 Axes>"
      ]
     },
     "metadata": {},
     "output_type": "display_data"
    }
   ],
   "source": [
    "plt.figure(figsize=(12,6))\n",
    "ax = sns.barplot(x='artists', y='artist_popularity', data=popularity_top_inicial)\n",
    "plt.xticks(rotation=90)\n",
    "for bar in ax.patches:\n",
    "    ax.annotate(format(bar.get_height(), '.2f'), \n",
    "                   (bar.get_x() + bar.get_width() / 2, \n",
    "                    bar.get_height()), ha='center', va='bottom',\n",
    "                   textcoords='offset points', xytext=(0,10),\n",
    "                   fontsize=8)\n",
    "plt.savefig('popularity vs artista.png')\n",
    "plt.show()"
   ]
  },
  {
   "cell_type": "code",
   "execution_count": 60,
   "metadata": {
    "tags": []
   },
   "outputs": [],
   "source": [
    "#Generamos una función para sacar las preferencias del usuario activo\n",
    "def generador_preferencias():\n",
    "    \n",
    "    artistas_puntuacion = list()\n",
    "    \n",
    "    while len(artistas_puntuacion) < 5:\n",
    "        try:\n",
    "            artista_usuario = input(\"Por favor, introduce el nombre de un artista/banda: \").strip().lower()\n",
    "\n",
    "            # Verificar si el artista está en el DataFrame\n",
    "            if artista_usuario not in spotify_features_data_reducido[\"artists\"].values:\n",
    "                print(\"Artista no encontrado. Por favor, intenta con otro nombre.\")\n",
    "                continue\n",
    "\n",
    "            puntuacion_usuario = int(input(\"Por favor, introduce la puntuación del artista/banda (1-10): \"))\n",
    "\n",
    "            # Validar que la puntuación está en el rango correcto\n",
    "            if puntuacion_usuario < 1 or puntuacion_usuario > 10:\n",
    "                print(\"La puntuación debe estar entre 1 y 10.\")\n",
    "                continue\n",
    "\n",
    "            artist_id = spotify_features_data_reducido[spotify_features_data_reducido[\"artists\"] == \n",
    "                                                       artista_usuario][\"artist_id\"].values[0]\n",
    "\n",
    "            artistas_puntuacion.append([artist_id, puntuacion_usuario])\n",
    "\n",
    "        except ValueError:\n",
    "            print(\"Por favor, introduce un número válido para la puntuación.\")\n",
    "        except IndexError:\n",
    "            print(\"Hubo un error al buscar el artista. Por favor, intenta de nuevo.\")\n",
    "\n",
    "    return pd.DataFrame(data=artistas_puntuacion, columns=[\"artist_id\", \"score\"])"
   ]
  },
  {
   "cell_type": "markdown",
   "metadata": {},
   "source": [
    "### Datos Aleatorios"
   ]
  },
  {
   "cell_type": "code",
   "execution_count": 61,
   "metadata": {
    "tags": []
   },
   "outputs": [],
   "source": [
    "import random"
   ]
  },
  {
   "cell_type": "code",
   "execution_count": 62,
   "metadata": {
    "tags": []
   },
   "outputs": [],
   "source": [
    "# Generamos una saerie de usuarios aleatorios, relacionados con artistas y calificaciones de esos artistas\n",
    "\n",
    "#los usuarios\n",
    "n_usuarios = random.randint(10_000, 20_000)\n",
    "\n",
    "usuarios_id = [f\"userid_{x}\" for x in range(n_usuarios)]\n",
    "\n",
    "artist_id_list = data[\"artist_id\"].tolist()\n",
    "\n",
    "data_usuarios = list()\n",
    "#puntuaciones de canciones de los usuarios generados\n",
    "for uid in usuarios_id:\n",
    "    \n",
    "    for i in range(random.randint(200, 300)):\n",
    "        \n",
    "        data_usuarios.append([uid, random.randint(1, 10), random.choice(seq = artist_id_list)])\n",
    "        \n",
    "usuarios = pd.DataFrame(data = data_usuarios, columns = [\"user_id\", \"like\", \"artist_id\"])"
   ]
  },
  {
   "cell_type": "code",
   "execution_count": 63,
   "metadata": {
    "tags": []
   },
   "outputs": [
    {
     "data": {
      "text/html": [
       "<div>\n",
       "<style scoped>\n",
       "    .dataframe tbody tr th:only-of-type {\n",
       "        vertical-align: middle;\n",
       "    }\n",
       "\n",
       "    .dataframe tbody tr th {\n",
       "        vertical-align: top;\n",
       "    }\n",
       "\n",
       "    .dataframe thead th {\n",
       "        text-align: right;\n",
       "    }\n",
       "</style>\n",
       "<table border=\"1\" class=\"dataframe\">\n",
       "  <thead>\n",
       "    <tr style=\"text-align: right;\">\n",
       "      <th></th>\n",
       "      <th>user_id</th>\n",
       "      <th>like</th>\n",
       "      <th>artist_id</th>\n",
       "    </tr>\n",
       "  </thead>\n",
       "  <tbody>\n",
       "    <tr>\n",
       "      <th>0</th>\n",
       "      <td>userid_0</td>\n",
       "      <td>9</td>\n",
       "      <td>2vf4pRsEY6LpL5tKmqWb64</td>\n",
       "    </tr>\n",
       "    <tr>\n",
       "      <th>1</th>\n",
       "      <td>userid_0</td>\n",
       "      <td>2</td>\n",
       "      <td>56MsGGbdOtGbcSoOKc5N7V</td>\n",
       "    </tr>\n",
       "    <tr>\n",
       "      <th>2</th>\n",
       "      <td>userid_0</td>\n",
       "      <td>2</td>\n",
       "      <td>0k5KeG8St6LiePh5blOwwl</td>\n",
       "    </tr>\n",
       "    <tr>\n",
       "      <th>3</th>\n",
       "      <td>userid_0</td>\n",
       "      <td>5</td>\n",
       "      <td>5FKABVMDKiED2mhi8bFSVx</td>\n",
       "    </tr>\n",
       "    <tr>\n",
       "      <th>4</th>\n",
       "      <td>userid_0</td>\n",
       "      <td>4</td>\n",
       "      <td>6bwp9ObI8FWvMPCIWVBmhl</td>\n",
       "    </tr>\n",
       "    <tr>\n",
       "      <th>...</th>\n",
       "      <td>...</td>\n",
       "      <td>...</td>\n",
       "      <td>...</td>\n",
       "    </tr>\n",
       "    <tr>\n",
       "      <th>4381883</th>\n",
       "      <td>userid_17522</td>\n",
       "      <td>2</td>\n",
       "      <td>3tJoFztHeIJkJWMrx0td2f</td>\n",
       "    </tr>\n",
       "    <tr>\n",
       "      <th>4381884</th>\n",
       "      <td>userid_17522</td>\n",
       "      <td>5</td>\n",
       "      <td>6RsLLSkSTcL4YrvgRcBTQd</td>\n",
       "    </tr>\n",
       "    <tr>\n",
       "      <th>4381885</th>\n",
       "      <td>userid_17522</td>\n",
       "      <td>10</td>\n",
       "      <td>0nKUfjTYVwxM6hZrvKhlNU</td>\n",
       "    </tr>\n",
       "    <tr>\n",
       "      <th>4381886</th>\n",
       "      <td>userid_17522</td>\n",
       "      <td>7</td>\n",
       "      <td>64Bnlany1OG6esdJyOxyey</td>\n",
       "    </tr>\n",
       "    <tr>\n",
       "      <th>4381887</th>\n",
       "      <td>userid_17522</td>\n",
       "      <td>4</td>\n",
       "      <td>4QVod9WOyzgPunBuDVllfO</td>\n",
       "    </tr>\n",
       "  </tbody>\n",
       "</table>\n",
       "<p>4381888 rows × 3 columns</p>\n",
       "</div>"
      ],
      "text/plain": [
       "              user_id  like               artist_id\n",
       "0            userid_0     9  2vf4pRsEY6LpL5tKmqWb64\n",
       "1            userid_0     2  56MsGGbdOtGbcSoOKc5N7V\n",
       "2            userid_0     2  0k5KeG8St6LiePh5blOwwl\n",
       "3            userid_0     5  5FKABVMDKiED2mhi8bFSVx\n",
       "4            userid_0     4  6bwp9ObI8FWvMPCIWVBmhl\n",
       "...               ...   ...                     ...\n",
       "4381883  userid_17522     2  3tJoFztHeIJkJWMrx0td2f\n",
       "4381884  userid_17522     5  6RsLLSkSTcL4YrvgRcBTQd\n",
       "4381885  userid_17522    10  0nKUfjTYVwxM6hZrvKhlNU\n",
       "4381886  userid_17522     7  64Bnlany1OG6esdJyOxyey\n",
       "4381887  userid_17522     4  4QVod9WOyzgPunBuDVllfO\n",
       "\n",
       "[4381888 rows x 3 columns]"
      ]
     },
     "execution_count": 63,
     "metadata": {},
     "output_type": "execute_result"
    }
   ],
   "source": [
    "usuarios"
   ]
  },
  {
   "cell_type": "code",
   "execution_count": 64,
   "metadata": {
    "tags": []
   },
   "outputs": [],
   "source": [
    "#Genera un csv con los datos de los usuarios aleatorios que en el codigo en si, no hace falta ya\n",
    "#usuarios.to_csv(\"usuarios.csv\", index = False)"
   ]
  },
  {
   "cell_type": "markdown",
   "metadata": {},
   "source": [
    "### Usuario Activo"
   ]
  },
  {
   "cell_type": "code",
   "execution_count": 65,
   "metadata": {
    "jupyter": {
     "outputs_hidden": true
    },
    "tags": []
   },
   "outputs": [
    {
     "name": "stdout",
     "output_type": "stream",
     "text": [
      "Por favor, introduce el nombre de un artista/banda: taylor swit\n",
      "Artista no encontrado. Por favor, intenta con otro nombre.\n",
      "Por favor, introduce el nombre de un artista/banda: taylor swith\n",
      "Artista no encontrado. Por favor, intenta con otro nombre.\n",
      "Por favor, introduce el nombre de un artista/banda: taylor swift\n",
      "Por favor, introduce la puntuación del artista/banda (1-10): 8\n",
      "Por favor, introduce el nombre de un artista/banda: bizarrap\n",
      "Por favor, introduce la puntuación del artista/banda (1-10): 10\n",
      "Por favor, introduce el nombre de un artista/banda: omy de oro\n",
      "Por favor, introduce la puntuación del artista/banda (1-10): 1\n",
      "Por favor, introduce el nombre de un artista/banda: drake\n",
      "Por favor, introduce la puntuación del artista/banda (1-10): 10\n",
      "Por favor, introduce el nombre de un artista/banda: mike dean\n",
      "Por favor, introduce la puntuación del artista/banda (1-10): 1\n"
     ]
    },
    {
     "data": {
      "text/plain": [
       "['userid_3345']"
      ]
     },
     "execution_count": 65,
     "metadata": {},
     "output_type": "execute_result"
    }
   ],
   "source": [
    "# Definimos el usuario activo con la función del generador de preferencias. Cramos un dataframe con sus preferencias. Añadimos al data información necesaria para continuar con el código\n",
    "\n",
    "usuario_activo = generador_preferencias().sort_values(\"artist_id\")\n",
    "\n",
    "usuarios_count = usuarios[usuarios[\"artist_id\"].isin(usuario_activo[\"artist_id\"])].groupby(\"user_id\", as_index = False).agg({\"artist_id\" : \"count\"})\n",
    "\n",
    "lista_usuarios = usuarios_count[usuarios_count[\"artist_id\"] == usuario_activo.shape[0]][\"user_id\"].to_list()\n",
    "\n",
    "lista_usuarios"
   ]
  },
  {
   "cell_type": "code",
   "execution_count": 66,
   "metadata": {
    "tags": []
   },
   "outputs": [
    {
     "name": "stderr",
     "output_type": "stream",
     "text": [
      "/tmp/ipykernel_20046/2244649314.py:2: UserWarning: Boolean Series key will be reindexed to match DataFrame index.\n",
      "  correlacion = usuarios.sort_values([\"user_id\", \"artist_id\"])[(usuarios[\"user_id\"].isin(lista_usuarios)) & (usuarios[\"artist_id\"].isin(usuario_activo[\"artist_id\"]))][[\"user_id\", \"like\"]]\n"
     ]
    },
    {
     "data": {
      "text/html": [
       "<div>\n",
       "<style scoped>\n",
       "    .dataframe tbody tr th:only-of-type {\n",
       "        vertical-align: middle;\n",
       "    }\n",
       "\n",
       "    .dataframe tbody tr th {\n",
       "        vertical-align: top;\n",
       "    }\n",
       "\n",
       "    .dataframe thead th {\n",
       "        text-align: right;\n",
       "    }\n",
       "</style>\n",
       "<table border=\"1\" class=\"dataframe\">\n",
       "  <thead>\n",
       "    <tr style=\"text-align: right;\">\n",
       "      <th></th>\n",
       "      <th>user_id</th>\n",
       "      <th>like</th>\n",
       "    </tr>\n",
       "  </thead>\n",
       "  <tbody>\n",
       "    <tr>\n",
       "      <th>835233</th>\n",
       "      <td>userid_3345</td>\n",
       "      <td>2</td>\n",
       "    </tr>\n",
       "    <tr>\n",
       "      <th>835379</th>\n",
       "      <td>userid_3345</td>\n",
       "      <td>2</td>\n",
       "    </tr>\n",
       "    <tr>\n",
       "      <th>835397</th>\n",
       "      <td>userid_3345</td>\n",
       "      <td>3</td>\n",
       "    </tr>\n",
       "    <tr>\n",
       "      <th>835351</th>\n",
       "      <td>userid_3345</td>\n",
       "      <td>2</td>\n",
       "    </tr>\n",
       "    <tr>\n",
       "      <th>835284</th>\n",
       "      <td>userid_3345</td>\n",
       "      <td>5</td>\n",
       "    </tr>\n",
       "  </tbody>\n",
       "</table>\n",
       "</div>"
      ],
      "text/plain": [
       "            user_id  like\n",
       "835233  userid_3345     2\n",
       "835379  userid_3345     2\n",
       "835397  userid_3345     3\n",
       "835351  userid_3345     2\n",
       "835284  userid_3345     5"
      ]
     },
     "execution_count": 66,
     "metadata": {},
     "output_type": "execute_result"
    }
   ],
   "source": [
    "# Ordenamos el data con los usuarios aleatorios que tengan mayor similitud con los usuarios activos. Borramos los artistas repetidos para evitar que salgan varias veces\n",
    "correlacion = usuarios.sort_values([\"user_id\", \"artist_id\"])[(usuarios[\"user_id\"].isin(lista_usuarios)) & (usuarios[\"artist_id\"].isin(usuario_activo[\"artist_id\"]))][[\"user_id\", \"like\"]]\n",
    "\n",
    "correlacion"
   ]
  },
  {
   "cell_type": "code",
   "execution_count": 67,
   "metadata": {
    "tags": []
   },
   "outputs": [
    {
     "data": {
      "text/html": [
       "<div>\n",
       "<style scoped>\n",
       "    .dataframe tbody tr th:only-of-type {\n",
       "        vertical-align: middle;\n",
       "    }\n",
       "\n",
       "    .dataframe tbody tr th {\n",
       "        vertical-align: top;\n",
       "    }\n",
       "\n",
       "    .dataframe thead th {\n",
       "        text-align: right;\n",
       "    }\n",
       "</style>\n",
       "<table border=\"1\" class=\"dataframe\">\n",
       "  <thead>\n",
       "    <tr style=\"text-align: right;\">\n",
       "      <th></th>\n",
       "      <th>artist_id</th>\n",
       "      <th>score</th>\n",
       "    </tr>\n",
       "  </thead>\n",
       "  <tbody>\n",
       "    <tr>\n",
       "      <th>0</th>\n",
       "      <td>06HL4z0CvFAxyc27GXpf02</td>\n",
       "      <td>8</td>\n",
       "    </tr>\n",
       "    <tr>\n",
       "      <th>4</th>\n",
       "      <td>1Xyo4u8uXC1ZmMpatF05PJ</td>\n",
       "      <td>1</td>\n",
       "    </tr>\n",
       "    <tr>\n",
       "      <th>1</th>\n",
       "      <td>2UZIAOlrnyZmyzt1nuXr9y</td>\n",
       "      <td>10</td>\n",
       "    </tr>\n",
       "    <tr>\n",
       "      <th>2</th>\n",
       "      <td>4q3ewBCX7sLwd24euuV69X</td>\n",
       "      <td>1</td>\n",
       "    </tr>\n",
       "    <tr>\n",
       "      <th>3</th>\n",
       "      <td>7dGJo4pcD2V6oG8kP0tJRR</td>\n",
       "      <td>10</td>\n",
       "    </tr>\n",
       "  </tbody>\n",
       "</table>\n",
       "</div>"
      ],
      "text/plain": [
       "                artist_id  score\n",
       "0  06HL4z0CvFAxyc27GXpf02      8\n",
       "4  1Xyo4u8uXC1ZmMpatF05PJ      1\n",
       "1  2UZIAOlrnyZmyzt1nuXr9y     10\n",
       "2  4q3ewBCX7sLwd24euuV69X      1\n",
       "3  7dGJo4pcD2V6oG8kP0tJRR     10"
      ]
     },
     "execution_count": 67,
     "metadata": {},
     "output_type": "execute_result"
    }
   ],
   "source": [
    "usuario_activo"
   ]
  },
  {
   "cell_type": "code",
   "execution_count": 68,
   "metadata": {
    "tags": []
   },
   "outputs": [
    {
     "data": {
      "text/html": [
       "<div>\n",
       "<style scoped>\n",
       "    .dataframe tbody tr th:only-of-type {\n",
       "        vertical-align: middle;\n",
       "    }\n",
       "\n",
       "    .dataframe tbody tr th {\n",
       "        vertical-align: top;\n",
       "    }\n",
       "\n",
       "    .dataframe thead th {\n",
       "        text-align: right;\n",
       "    }\n",
       "</style>\n",
       "<table border=\"1\" class=\"dataframe\">\n",
       "  <thead>\n",
       "    <tr style=\"text-align: right;\">\n",
       "      <th></th>\n",
       "      <th>user_id</th>\n",
       "      <th>similitud</th>\n",
       "    </tr>\n",
       "  </thead>\n",
       "  <tbody>\n",
       "    <tr>\n",
       "      <th>0</th>\n",
       "      <td>userid_3345</td>\n",
       "      <td>0.904025</td>\n",
       "    </tr>\n",
       "  </tbody>\n",
       "</table>\n",
       "</div>"
      ],
      "text/plain": [
       "       user_id  similitud\n",
       "0  userid_3345   0.904025"
      ]
     },
     "execution_count": 68,
     "metadata": {},
     "output_type": "execute_result"
    }
   ],
   "source": [
    "# un bucle para sacar la corrlación entre los usuarios que se ha llmado similitud\n",
    "similitud = list()\n",
    "\n",
    "for user_id in correlacion[\"user_id\"].unique():\n",
    "    \n",
    "    user_ = correlacion[correlacion[\"user_id\"] == user_id][\"like\"].values.reshape(1, -1)\n",
    "    \n",
    "    similitud.append([user_id, cosine_similarity(usuario_activo[\"score\"].values.reshape(1, -1), user_)[0][0]])\n",
    "    \n",
    "df_correlacion_usuario = pd.DataFrame(similitud, columns = [\"user_id\", \"similitud\"])\n",
    "\n",
    "df_correlacion_usuario.sort_values(\"similitud\", ascending = False)"
   ]
  },
  {
   "cell_type": "code",
   "execution_count": 69,
   "metadata": {
    "tags": []
   },
   "outputs": [],
   "source": [
    "#Quitamos los artistas que ya ha indicado el usuario activo, para que no se recomienden de nuevo\n",
    "artistas_borrados = usuarios[(usuarios[\"user_id\"].isin(df_correlacion_usuario[\"user_id\"])) & ~(usuarios[\"artist_id\"].isin(usuario_activo[\"artist_id\"]))]\n",
    "\n",
    "#incluye usuarios cuyos \"user_id\" coinciden con los de df_correlacion_usuario, pero excluye aquellos cuyos \"artist_id\" coinciden con los de usuario_activo."
   ]
  },
  {
   "cell_type": "code",
   "execution_count": 70,
   "metadata": {},
   "outputs": [
    {
     "data": {
      "text/html": [
       "<div>\n",
       "<style scoped>\n",
       "    .dataframe tbody tr th:only-of-type {\n",
       "        vertical-align: middle;\n",
       "    }\n",
       "\n",
       "    .dataframe tbody tr th {\n",
       "        vertical-align: top;\n",
       "    }\n",
       "\n",
       "    .dataframe thead th {\n",
       "        text-align: right;\n",
       "    }\n",
       "</style>\n",
       "<table border=\"1\" class=\"dataframe\">\n",
       "  <thead>\n",
       "    <tr style=\"text-align: right;\">\n",
       "      <th></th>\n",
       "      <th>user_id</th>\n",
       "      <th>like</th>\n",
       "      <th>artist_id</th>\n",
       "    </tr>\n",
       "  </thead>\n",
       "  <tbody>\n",
       "    <tr>\n",
       "      <th>835216</th>\n",
       "      <td>userid_3345</td>\n",
       "      <td>9</td>\n",
       "      <td>0JM134st8VY7Ld9T2wQiH0</td>\n",
       "    </tr>\n",
       "    <tr>\n",
       "      <th>835217</th>\n",
       "      <td>userid_3345</td>\n",
       "      <td>6</td>\n",
       "      <td>5k3NfhEeZHpouIGDpjKOPo</td>\n",
       "    </tr>\n",
       "    <tr>\n",
       "      <th>835218</th>\n",
       "      <td>userid_3345</td>\n",
       "      <td>8</td>\n",
       "      <td>0BaIYBNbIxaBF9warrkUXO</td>\n",
       "    </tr>\n",
       "    <tr>\n",
       "      <th>835219</th>\n",
       "      <td>userid_3345</td>\n",
       "      <td>5</td>\n",
       "      <td>58G1dVGEODhaSBjj2vJJvS</td>\n",
       "    </tr>\n",
       "    <tr>\n",
       "      <th>835220</th>\n",
       "      <td>userid_3345</td>\n",
       "      <td>10</td>\n",
       "      <td>1YZhNFBxkEB5UKTgMDvot4</td>\n",
       "    </tr>\n",
       "    <tr>\n",
       "      <th>...</th>\n",
       "      <td>...</td>\n",
       "      <td>...</td>\n",
       "      <td>...</td>\n",
       "    </tr>\n",
       "    <tr>\n",
       "      <th>835505</th>\n",
       "      <td>userid_3345</td>\n",
       "      <td>5</td>\n",
       "      <td>4QGidRjlbajuTespAY0LMp</td>\n",
       "    </tr>\n",
       "    <tr>\n",
       "      <th>835506</th>\n",
       "      <td>userid_3345</td>\n",
       "      <td>5</td>\n",
       "      <td>0IVBT8qQNwvHLzOJL6kGpE</td>\n",
       "    </tr>\n",
       "    <tr>\n",
       "      <th>835507</th>\n",
       "      <td>userid_3345</td>\n",
       "      <td>6</td>\n",
       "      <td>10PJudnCduYdRAWt6ej8by</td>\n",
       "    </tr>\n",
       "    <tr>\n",
       "      <th>835508</th>\n",
       "      <td>userid_3345</td>\n",
       "      <td>6</td>\n",
       "      <td>4p6qqywaSCExdEYczbAFGY</td>\n",
       "    </tr>\n",
       "    <tr>\n",
       "      <th>835509</th>\n",
       "      <td>userid_3345</td>\n",
       "      <td>5</td>\n",
       "      <td>5IkUAY8WDrYt1RYL2TrABz</td>\n",
       "    </tr>\n",
       "  </tbody>\n",
       "</table>\n",
       "<p>289 rows × 3 columns</p>\n",
       "</div>"
      ],
      "text/plain": [
       "            user_id  like               artist_id\n",
       "835216  userid_3345     9  0JM134st8VY7Ld9T2wQiH0\n",
       "835217  userid_3345     6  5k3NfhEeZHpouIGDpjKOPo\n",
       "835218  userid_3345     8  0BaIYBNbIxaBF9warrkUXO\n",
       "835219  userid_3345     5  58G1dVGEODhaSBjj2vJJvS\n",
       "835220  userid_3345    10  1YZhNFBxkEB5UKTgMDvot4\n",
       "...             ...   ...                     ...\n",
       "835505  userid_3345     5  4QGidRjlbajuTespAY0LMp\n",
       "835506  userid_3345     5  0IVBT8qQNwvHLzOJL6kGpE\n",
       "835507  userid_3345     6  10PJudnCduYdRAWt6ej8by\n",
       "835508  userid_3345     6  4p6qqywaSCExdEYczbAFGY\n",
       "835509  userid_3345     5  5IkUAY8WDrYt1RYL2TrABz\n",
       "\n",
       "[289 rows x 3 columns]"
      ]
     },
     "execution_count": 70,
     "metadata": {},
     "output_type": "execute_result"
    }
   ],
   "source": [
    "artistas_borrados"
   ]
  },
  {
   "cell_type": "code",
   "execution_count": 71,
   "metadata": {
    "tags": []
   },
   "outputs": [
    {
     "data": {
      "text/html": [
       "<div>\n",
       "<style scoped>\n",
       "    .dataframe tbody tr th:only-of-type {\n",
       "        vertical-align: middle;\n",
       "    }\n",
       "\n",
       "    .dataframe tbody tr th {\n",
       "        vertical-align: top;\n",
       "    }\n",
       "\n",
       "    .dataframe thead th {\n",
       "        text-align: right;\n",
       "    }\n",
       "</style>\n",
       "<table border=\"1\" class=\"dataframe\">\n",
       "  <thead>\n",
       "    <tr style=\"text-align: right;\">\n",
       "      <th></th>\n",
       "      <th>user_id</th>\n",
       "      <th>similitud</th>\n",
       "      <th>like</th>\n",
       "      <th>artist_id</th>\n",
       "    </tr>\n",
       "  </thead>\n",
       "  <tbody>\n",
       "    <tr>\n",
       "      <th>0</th>\n",
       "      <td>userid_3345</td>\n",
       "      <td>0.904025</td>\n",
       "      <td>9</td>\n",
       "      <td>0JM134st8VY7Ld9T2wQiH0</td>\n",
       "    </tr>\n",
       "    <tr>\n",
       "      <th>1</th>\n",
       "      <td>userid_3345</td>\n",
       "      <td>0.904025</td>\n",
       "      <td>6</td>\n",
       "      <td>5k3NfhEeZHpouIGDpjKOPo</td>\n",
       "    </tr>\n",
       "    <tr>\n",
       "      <th>2</th>\n",
       "      <td>userid_3345</td>\n",
       "      <td>0.904025</td>\n",
       "      <td>8</td>\n",
       "      <td>0BaIYBNbIxaBF9warrkUXO</td>\n",
       "    </tr>\n",
       "    <tr>\n",
       "      <th>3</th>\n",
       "      <td>userid_3345</td>\n",
       "      <td>0.904025</td>\n",
       "      <td>5</td>\n",
       "      <td>58G1dVGEODhaSBjj2vJJvS</td>\n",
       "    </tr>\n",
       "    <tr>\n",
       "      <th>4</th>\n",
       "      <td>userid_3345</td>\n",
       "      <td>0.904025</td>\n",
       "      <td>10</td>\n",
       "      <td>1YZhNFBxkEB5UKTgMDvot4</td>\n",
       "    </tr>\n",
       "    <tr>\n",
       "      <th>...</th>\n",
       "      <td>...</td>\n",
       "      <td>...</td>\n",
       "      <td>...</td>\n",
       "      <td>...</td>\n",
       "    </tr>\n",
       "    <tr>\n",
       "      <th>284</th>\n",
       "      <td>userid_3345</td>\n",
       "      <td>0.904025</td>\n",
       "      <td>5</td>\n",
       "      <td>4QGidRjlbajuTespAY0LMp</td>\n",
       "    </tr>\n",
       "    <tr>\n",
       "      <th>285</th>\n",
       "      <td>userid_3345</td>\n",
       "      <td>0.904025</td>\n",
       "      <td>5</td>\n",
       "      <td>0IVBT8qQNwvHLzOJL6kGpE</td>\n",
       "    </tr>\n",
       "    <tr>\n",
       "      <th>286</th>\n",
       "      <td>userid_3345</td>\n",
       "      <td>0.904025</td>\n",
       "      <td>6</td>\n",
       "      <td>10PJudnCduYdRAWt6ej8by</td>\n",
       "    </tr>\n",
       "    <tr>\n",
       "      <th>287</th>\n",
       "      <td>userid_3345</td>\n",
       "      <td>0.904025</td>\n",
       "      <td>6</td>\n",
       "      <td>4p6qqywaSCExdEYczbAFGY</td>\n",
       "    </tr>\n",
       "    <tr>\n",
       "      <th>288</th>\n",
       "      <td>userid_3345</td>\n",
       "      <td>0.904025</td>\n",
       "      <td>5</td>\n",
       "      <td>5IkUAY8WDrYt1RYL2TrABz</td>\n",
       "    </tr>\n",
       "  </tbody>\n",
       "</table>\n",
       "<p>289 rows × 4 columns</p>\n",
       "</div>"
      ],
      "text/plain": [
       "         user_id  similitud  like               artist_id\n",
       "0    userid_3345   0.904025     9  0JM134st8VY7Ld9T2wQiH0\n",
       "1    userid_3345   0.904025     6  5k3NfhEeZHpouIGDpjKOPo\n",
       "2    userid_3345   0.904025     8  0BaIYBNbIxaBF9warrkUXO\n",
       "3    userid_3345   0.904025     5  58G1dVGEODhaSBjj2vJJvS\n",
       "4    userid_3345   0.904025    10  1YZhNFBxkEB5UKTgMDvot4\n",
       "..           ...        ...   ...                     ...\n",
       "284  userid_3345   0.904025     5  4QGidRjlbajuTespAY0LMp\n",
       "285  userid_3345   0.904025     5  0IVBT8qQNwvHLzOJL6kGpE\n",
       "286  userid_3345   0.904025     6  10PJudnCduYdRAWt6ej8by\n",
       "287  userid_3345   0.904025     6  4p6qqywaSCExdEYczbAFGY\n",
       "288  userid_3345   0.904025     5  5IkUAY8WDrYt1RYL2TrABz\n",
       "\n",
       "[289 rows x 4 columns]"
      ]
     },
     "execution_count": 71,
     "metadata": {},
     "output_type": "execute_result"
    }
   ],
   "source": [
    "#unimos lod dataFrame de la correlación y los artistas borrados (elegidos por el ususario activo)\n",
    "df_ratings_subset = df_correlacion_usuario.merge(artistas_borrados, on = \"user_id\")\n",
    "df_ratings_subset\n"
   ]
  },
  {
   "cell_type": "code",
   "execution_count": 72,
   "metadata": {
    "tags": []
   },
   "outputs": [],
   "source": [
    "#Añadimos los pesos al data con su correspondiente suma con los pesos\n",
    "df_ratings_subset['weight'] = df_ratings_subset['like'] * df_ratings_subset['similitud']"
   ]
  },
  {
   "cell_type": "code",
   "execution_count": 73,
   "metadata": {
    "tags": []
   },
   "outputs": [],
   "source": [
    "df_ratings_subset_agg = df_ratings_subset.groupby(\"artist_id\", as_index = False).agg({\"weight\": \"sum\", \"similitud\":\"sum\"})"
   ]
  },
  {
   "cell_type": "code",
   "execution_count": 84,
   "metadata": {
    "tags": []
   },
   "outputs": [
    {
     "data": {
      "text/html": [
       "<div>\n",
       "<style scoped>\n",
       "    .dataframe tbody tr th:only-of-type {\n",
       "        vertical-align: middle;\n",
       "    }\n",
       "\n",
       "    .dataframe tbody tr th {\n",
       "        vertical-align: top;\n",
       "    }\n",
       "\n",
       "    .dataframe thead th {\n",
       "        text-align: right;\n",
       "    }\n",
       "</style>\n",
       "<table border=\"1\" class=\"dataframe\">\n",
       "  <thead>\n",
       "    <tr style=\"text-align: right;\">\n",
       "      <th></th>\n",
       "      <th>artist_id</th>\n",
       "      <th>weight</th>\n",
       "      <th>similitud</th>\n",
       "      <th>final</th>\n",
       "      <th>album_id</th>\n",
       "      <th>album_name</th>\n",
       "      <th>album_popularity</th>\n",
       "      <th>genre_0</th>\n",
       "      <th>album_type</th>\n",
       "      <th>artists</th>\n",
       "      <th>...</th>\n",
       "      <th>mode</th>\n",
       "      <th>speechiness</th>\n",
       "      <th>tempo</th>\n",
       "      <th>time_signature</th>\n",
       "      <th>uri</th>\n",
       "      <th>valence</th>\n",
       "      <th>explicit</th>\n",
       "      <th>track_popularity</th>\n",
       "      <th>followers</th>\n",
       "      <th>user_id</th>\n",
       "    </tr>\n",
       "  </thead>\n",
       "  <tbody>\n",
       "    <tr>\n",
       "      <th>14620</th>\n",
       "      <td>6mkdsFN9hfvPu2X99LSiQD</td>\n",
       "      <td>9.040246</td>\n",
       "      <td>0.904025</td>\n",
       "      <td>10.0</td>\n",
       "      <td>2GlY47kJwB17Eu8yer3Ba3</td>\n",
       "      <td>Lady Generation</td>\n",
       "      <td>1</td>\n",
       "      <td>japanese dance pop</td>\n",
       "      <td>single</td>\n",
       "      <td>def will</td>\n",
       "      <td>...</td>\n",
       "      <td>1.0</td>\n",
       "      <td>0.0284</td>\n",
       "      <td>127.010</td>\n",
       "      <td>4.0</td>\n",
       "      <td>spotify:track:2hWnpIs9GzGUQfPmuFfB7C</td>\n",
       "      <td>0.5680</td>\n",
       "      <td>False</td>\n",
       "      <td>3.0</td>\n",
       "      <td>1153</td>\n",
       "      <td>NaN</td>\n",
       "    </tr>\n",
       "    <tr>\n",
       "      <th>4529</th>\n",
       "      <td>2kPpkaVu7vuO0Xk8nOYPrM</td>\n",
       "      <td>9.040246</td>\n",
       "      <td>0.904025</td>\n",
       "      <td>10.0</td>\n",
       "      <td>2pBPS2Q6RR6no0DdjgB6fO</td>\n",
       "      <td>Born Blessed</td>\n",
       "      <td>2</td>\n",
       "      <td>new orleans funk</td>\n",
       "      <td>album</td>\n",
       "      <td>jimmy hicks</td>\n",
       "      <td>...</td>\n",
       "      <td>0.0</td>\n",
       "      <td>0.3070</td>\n",
       "      <td>191.799</td>\n",
       "      <td>4.0</td>\n",
       "      <td>spotify:track:1HXUubJai9VxwDmpAGUI0s</td>\n",
       "      <td>0.8170</td>\n",
       "      <td>False</td>\n",
       "      <td>2.0</td>\n",
       "      <td>651</td>\n",
       "      <td>NaN</td>\n",
       "    </tr>\n",
       "    <tr>\n",
       "      <th>7896</th>\n",
       "      <td>4WPY0N74T3KUja57xMQTZ3</td>\n",
       "      <td>9.040246</td>\n",
       "      <td>0.904025</td>\n",
       "      <td>10.0</td>\n",
       "      <td>3YH2ZyKNuhphyixjJvtXul</td>\n",
       "      <td>For Sale: Live At Maxwell'S 1986</td>\n",
       "      <td>25</td>\n",
       "      <td>alternative rock</td>\n",
       "      <td>album</td>\n",
       "      <td>the replacements</td>\n",
       "      <td>...</td>\n",
       "      <td>1.0</td>\n",
       "      <td>0.0618</td>\n",
       "      <td>175.908</td>\n",
       "      <td>4.0</td>\n",
       "      <td>spotify:track:4hLuVbocGJMFc1mdwfAMHX</td>\n",
       "      <td>0.4590</td>\n",
       "      <td>False</td>\n",
       "      <td>12.0</td>\n",
       "      <td>282743</td>\n",
       "      <td>NaN</td>\n",
       "    </tr>\n",
       "    <tr>\n",
       "      <th>7927</th>\n",
       "      <td>4Xx6QMLTWppMwdABkN0Afj</td>\n",
       "      <td>9.040246</td>\n",
       "      <td>0.904025</td>\n",
       "      <td>10.0</td>\n",
       "      <td>2BRnoBLO6YKrsVPxvzB8VM</td>\n",
       "      <td>Piano Tribute To Lady Gaga, Vol. 2</td>\n",
       "      <td>4</td>\n",
       "      <td>piano cover</td>\n",
       "      <td>album</td>\n",
       "      <td>piano tribute players</td>\n",
       "      <td>...</td>\n",
       "      <td>0.0</td>\n",
       "      <td>0.0380</td>\n",
       "      <td>126.980</td>\n",
       "      <td>3.0</td>\n",
       "      <td>spotify:track:67uJ7lXlq0b6UV8xDOiqgC</td>\n",
       "      <td>0.5610</td>\n",
       "      <td>False</td>\n",
       "      <td>1.0</td>\n",
       "      <td>56536</td>\n",
       "      <td>NaN</td>\n",
       "    </tr>\n",
       "    <tr>\n",
       "      <th>3222</th>\n",
       "      <td>22QkuOmdRnasuuVgUjhrVw</td>\n",
       "      <td>9.040246</td>\n",
       "      <td>0.904025</td>\n",
       "      <td>10.0</td>\n",
       "      <td>0MDeIBghODZkcjb9F3KRSp</td>\n",
       "      <td>Positions (Acoustic)</td>\n",
       "      <td>36</td>\n",
       "      <td>acoustic cover</td>\n",
       "      <td>single</td>\n",
       "      <td>adam christopher</td>\n",
       "      <td>...</td>\n",
       "      <td>0.0</td>\n",
       "      <td>0.0384</td>\n",
       "      <td>140.003</td>\n",
       "      <td>4.0</td>\n",
       "      <td>spotify:track:1Ca0BlORhLRm0Z3F66gh5t</td>\n",
       "      <td>0.6630</td>\n",
       "      <td>False</td>\n",
       "      <td>45.0</td>\n",
       "      <td>24110</td>\n",
       "      <td>NaN</td>\n",
       "    </tr>\n",
       "    <tr>\n",
       "      <th>...</th>\n",
       "      <td>...</td>\n",
       "      <td>...</td>\n",
       "      <td>...</td>\n",
       "      <td>...</td>\n",
       "      <td>...</td>\n",
       "      <td>...</td>\n",
       "      <td>...</td>\n",
       "      <td>...</td>\n",
       "      <td>...</td>\n",
       "      <td>...</td>\n",
       "      <td>...</td>\n",
       "      <td>...</td>\n",
       "      <td>...</td>\n",
       "      <td>...</td>\n",
       "      <td>...</td>\n",
       "      <td>...</td>\n",
       "      <td>...</td>\n",
       "      <td>...</td>\n",
       "      <td>...</td>\n",
       "      <td>...</td>\n",
       "      <td>...</td>\n",
       "    </tr>\n",
       "    <tr>\n",
       "      <th>3147</th>\n",
       "      <td>1yolJlMzhzK1UWcHTC7Mw2</td>\n",
       "      <td>0.904025</td>\n",
       "      <td>0.904025</td>\n",
       "      <td>1.0</td>\n",
       "      <td>13DLw8xeA0zTBAHbs1JlGS</td>\n",
       "      <td>Did It Twice</td>\n",
       "      <td>20</td>\n",
       "      <td>alt z</td>\n",
       "      <td>single</td>\n",
       "      <td>meg deangelis</td>\n",
       "      <td>...</td>\n",
       "      <td>1.0</td>\n",
       "      <td>0.0302</td>\n",
       "      <td>173.885</td>\n",
       "      <td>3.0</td>\n",
       "      <td>spotify:track:6tbHJKKjYcWqPi99AR662T</td>\n",
       "      <td>0.3510</td>\n",
       "      <td>False</td>\n",
       "      <td>29.0</td>\n",
       "      <td>14664</td>\n",
       "      <td>NaN</td>\n",
       "    </tr>\n",
       "    <tr>\n",
       "      <th>12</th>\n",
       "      <td>06MtOym27ALcfdtVOsRcaA</td>\n",
       "      <td>0.904025</td>\n",
       "      <td>0.904025</td>\n",
       "      <td>1.0</td>\n",
       "      <td>3A773IqleYxxP9zwJiHQYd</td>\n",
       "      <td>Holm/The Man Who Sold The World</td>\n",
       "      <td>39</td>\n",
       "      <td>arab alternative</td>\n",
       "      <td>single</td>\n",
       "      <td>emel</td>\n",
       "      <td>...</td>\n",
       "      <td>0.0</td>\n",
       "      <td>0.0348</td>\n",
       "      <td>81.261</td>\n",
       "      <td>4.0</td>\n",
       "      <td>spotify:track:30QRWUG9wGgwfYepTbkntb</td>\n",
       "      <td>0.0682</td>\n",
       "      <td>False</td>\n",
       "      <td>23.0</td>\n",
       "      <td>59283</td>\n",
       "      <td>userid_3345</td>\n",
       "    </tr>\n",
       "    <tr>\n",
       "      <th>10</th>\n",
       "      <td>0549HtXpQq3oGiHDNrEIJQ</td>\n",
       "      <td>0.904025</td>\n",
       "      <td>0.904025</td>\n",
       "      <td>1.0</td>\n",
       "      <td>6kukvyL347H2k7TrdzkG5e</td>\n",
       "      <td>Winter Freeze</td>\n",
       "      <td>20</td>\n",
       "      <td>anime phonk</td>\n",
       "      <td>single</td>\n",
       "      <td>f3rzxid</td>\n",
       "      <td>...</td>\n",
       "      <td>1.0</td>\n",
       "      <td>0.2280</td>\n",
       "      <td>159.998</td>\n",
       "      <td>4.0</td>\n",
       "      <td>spotify:track:1EkE8qoFu3yxK66pT0TNXB</td>\n",
       "      <td>0.6660</td>\n",
       "      <td>False</td>\n",
       "      <td>29.0</td>\n",
       "      <td>1087</td>\n",
       "      <td>userid_3345</td>\n",
       "    </tr>\n",
       "    <tr>\n",
       "      <th>660</th>\n",
       "      <td>0SfsnGyD8FpIN4U4WCkBZ5</td>\n",
       "      <td>0.904025</td>\n",
       "      <td>0.904025</td>\n",
       "      <td>1.0</td>\n",
       "      <td>12Ez1lUI4D5uqnJviwVWh9</td>\n",
       "      <td>Asot 1150 - A State Of Trance Episode 1150 [In...</td>\n",
       "      <td>48</td>\n",
       "      <td>dutch house</td>\n",
       "      <td>album</td>\n",
       "      <td>armin van buuren</td>\n",
       "      <td>...</td>\n",
       "      <td>1.0</td>\n",
       "      <td>0.1090</td>\n",
       "      <td>129.902</td>\n",
       "      <td>4.0</td>\n",
       "      <td>spotify:track:4XZggRUoPTvXCoie5a5uBL</td>\n",
       "      <td>0.4610</td>\n",
       "      <td>False</td>\n",
       "      <td>21.0</td>\n",
       "      <td>4366605</td>\n",
       "      <td>NaN</td>\n",
       "    </tr>\n",
       "    <tr>\n",
       "      <th>0</th>\n",
       "      <td>02SPjHOCvLX8lENebijpOq</td>\n",
       "      <td>0.904025</td>\n",
       "      <td>0.904025</td>\n",
       "      <td>1.0</td>\n",
       "      <td>4UTN2I2bn3qeZKbgZA4qkT</td>\n",
       "      <td>2016 Florida Music Educators Association (Fmea...</td>\n",
       "      <td>4</td>\n",
       "      <td>school ensemble</td>\n",
       "      <td>album</td>\n",
       "      <td>brian balmages</td>\n",
       "      <td>...</td>\n",
       "      <td>1.0</td>\n",
       "      <td>0.0723</td>\n",
       "      <td>150.685</td>\n",
       "      <td>4.0</td>\n",
       "      <td>spotify:track:2FsoXa5qMjTTzX2ovFmjGv</td>\n",
       "      <td>0.5640</td>\n",
       "      <td>False</td>\n",
       "      <td>2.0</td>\n",
       "      <td>20</td>\n",
       "      <td>userid_3345</td>\n",
       "    </tr>\n",
       "  </tbody>\n",
       "</table>\n",
       "<p>271 rows × 33 columns</p>\n",
       "</div>"
      ],
      "text/plain": [
       "                    artist_id    weight  similitud  final  \\\n",
       "14620  6mkdsFN9hfvPu2X99LSiQD  9.040246   0.904025   10.0   \n",
       "4529   2kPpkaVu7vuO0Xk8nOYPrM  9.040246   0.904025   10.0   \n",
       "7896   4WPY0N74T3KUja57xMQTZ3  9.040246   0.904025   10.0   \n",
       "7927   4Xx6QMLTWppMwdABkN0Afj  9.040246   0.904025   10.0   \n",
       "3222   22QkuOmdRnasuuVgUjhrVw  9.040246   0.904025   10.0   \n",
       "...                       ...       ...        ...    ...   \n",
       "3147   1yolJlMzhzK1UWcHTC7Mw2  0.904025   0.904025    1.0   \n",
       "12     06MtOym27ALcfdtVOsRcaA  0.904025   0.904025    1.0   \n",
       "10     0549HtXpQq3oGiHDNrEIJQ  0.904025   0.904025    1.0   \n",
       "660    0SfsnGyD8FpIN4U4WCkBZ5  0.904025   0.904025    1.0   \n",
       "0      02SPjHOCvLX8lENebijpOq  0.904025   0.904025    1.0   \n",
       "\n",
       "                     album_id  \\\n",
       "14620  2GlY47kJwB17Eu8yer3Ba3   \n",
       "4529   2pBPS2Q6RR6no0DdjgB6fO   \n",
       "7896   3YH2ZyKNuhphyixjJvtXul   \n",
       "7927   2BRnoBLO6YKrsVPxvzB8VM   \n",
       "3222   0MDeIBghODZkcjb9F3KRSp   \n",
       "...                       ...   \n",
       "3147   13DLw8xeA0zTBAHbs1JlGS   \n",
       "12     3A773IqleYxxP9zwJiHQYd   \n",
       "10     6kukvyL347H2k7TrdzkG5e   \n",
       "660    12Ez1lUI4D5uqnJviwVWh9   \n",
       "0      4UTN2I2bn3qeZKbgZA4qkT   \n",
       "\n",
       "                                              album_name  album_popularity  \\\n",
       "14620                                    Lady Generation                 1   \n",
       "4529                                        Born Blessed                 2   \n",
       "7896                    For Sale: Live At Maxwell'S 1986                25   \n",
       "7927                  Piano Tribute To Lady Gaga, Vol. 2                 4   \n",
       "3222                                Positions (Acoustic)                36   \n",
       "...                                                  ...               ...   \n",
       "3147                                        Did It Twice                20   \n",
       "12                       Holm/The Man Who Sold The World                39   \n",
       "10                                         Winter Freeze                20   \n",
       "660    Asot 1150 - A State Of Trance Episode 1150 [In...                48   \n",
       "0      2016 Florida Music Educators Association (Fmea...                 4   \n",
       "\n",
       "                  genre_0 album_type                artists  ...  mode  \\\n",
       "14620  japanese dance pop     single               def will  ...   1.0   \n",
       "4529     new orleans funk      album            jimmy hicks  ...   0.0   \n",
       "7896     alternative rock      album       the replacements  ...   1.0   \n",
       "7927          piano cover      album  piano tribute players  ...   0.0   \n",
       "3222       acoustic cover     single       adam christopher  ...   0.0   \n",
       "...                   ...        ...                    ...  ...   ...   \n",
       "3147                alt z     single          meg deangelis  ...   1.0   \n",
       "12       arab alternative     single                   emel  ...   0.0   \n",
       "10            anime phonk     single                f3rzxid  ...   1.0   \n",
       "660           dutch house      album       armin van buuren  ...   1.0   \n",
       "0         school ensemble      album         brian balmages  ...   1.0   \n",
       "\n",
       "      speechiness    tempo time_signature  \\\n",
       "14620      0.0284  127.010            4.0   \n",
       "4529       0.3070  191.799            4.0   \n",
       "7896       0.0618  175.908            4.0   \n",
       "7927       0.0380  126.980            3.0   \n",
       "3222       0.0384  140.003            4.0   \n",
       "...           ...      ...            ...   \n",
       "3147       0.0302  173.885            3.0   \n",
       "12         0.0348   81.261            4.0   \n",
       "10         0.2280  159.998            4.0   \n",
       "660        0.1090  129.902            4.0   \n",
       "0          0.0723  150.685            4.0   \n",
       "\n",
       "                                        uri valence  explicit  \\\n",
       "14620  spotify:track:2hWnpIs9GzGUQfPmuFfB7C  0.5680     False   \n",
       "4529   spotify:track:1HXUubJai9VxwDmpAGUI0s  0.8170     False   \n",
       "7896   spotify:track:4hLuVbocGJMFc1mdwfAMHX  0.4590     False   \n",
       "7927   spotify:track:67uJ7lXlq0b6UV8xDOiqgC  0.5610     False   \n",
       "3222   spotify:track:1Ca0BlORhLRm0Z3F66gh5t  0.6630     False   \n",
       "...                                     ...     ...       ...   \n",
       "3147   spotify:track:6tbHJKKjYcWqPi99AR662T  0.3510     False   \n",
       "12     spotify:track:30QRWUG9wGgwfYepTbkntb  0.0682     False   \n",
       "10     spotify:track:1EkE8qoFu3yxK66pT0TNXB  0.6660     False   \n",
       "660    spotify:track:4XZggRUoPTvXCoie5a5uBL  0.4610     False   \n",
       "0      spotify:track:2FsoXa5qMjTTzX2ovFmjGv  0.5640     False   \n",
       "\n",
       "       track_popularity  followers      user_id  \n",
       "14620               3.0       1153          NaN  \n",
       "4529                2.0        651          NaN  \n",
       "7896               12.0     282743          NaN  \n",
       "7927                1.0      56536          NaN  \n",
       "3222               45.0      24110          NaN  \n",
       "...                 ...        ...          ...  \n",
       "3147               29.0      14664          NaN  \n",
       "12                 23.0      59283  userid_3345  \n",
       "10                 29.0       1087  userid_3345  \n",
       "660                21.0    4366605          NaN  \n",
       "0                   2.0         20  userid_3345  \n",
       "\n",
       "[271 rows x 33 columns]"
      ]
     },
     "execution_count": 84,
     "metadata": {},
     "output_type": "execute_result"
    }
   ],
   "source": [
    "df_ratings_subset_agg"
   ]
  },
  {
   "cell_type": "code",
   "execution_count": 75,
   "metadata": {
    "tags": []
   },
   "outputs": [],
   "source": [
    "#añadimos la columna final que contendra peso/similitud\n",
    "df_ratings_subset_agg['final'] = df_ratings_subset_agg['weight']  / df_ratings_subset_agg['similitud'] "
   ]
  },
  {
   "cell_type": "code",
   "execution_count": 76,
   "metadata": {
    "tags": []
   },
   "outputs": [],
   "source": [
    "#Borramos duplicados y unismo los dos dataFrame\n",
    "df_ratings_subset_agg = df_ratings_subset_agg.merge(spotify_features_data_reducido, on = \"artist_id\").drop_duplicates(\"artist_id\")"
   ]
  },
  {
   "cell_type": "code",
   "execution_count": 77,
   "metadata": {
    "tags": []
   },
   "outputs": [],
   "source": [
    "#Ordenamos la infomación para que salgan los primeros con mayor correlación\n",
    "df_ratings_subset_agg = df_ratings_subset_agg.sort_values(by = \"final\", ascending=False)"
   ]
  },
  {
   "cell_type": "code",
   "execution_count": 78,
   "metadata": {
    "tags": []
   },
   "outputs": [
    {
     "data": {
      "text/html": [
       "<div>\n",
       "<style scoped>\n",
       "    .dataframe tbody tr th:only-of-type {\n",
       "        vertical-align: middle;\n",
       "    }\n",
       "\n",
       "    .dataframe tbody tr th {\n",
       "        vertical-align: top;\n",
       "    }\n",
       "\n",
       "    .dataframe thead th {\n",
       "        text-align: right;\n",
       "    }\n",
       "</style>\n",
       "<table border=\"1\" class=\"dataframe\">\n",
       "  <thead>\n",
       "    <tr style=\"text-align: right;\">\n",
       "      <th></th>\n",
       "      <th>artist_id</th>\n",
       "      <th>weight</th>\n",
       "      <th>similitud</th>\n",
       "      <th>final</th>\n",
       "      <th>album_id</th>\n",
       "      <th>album_name</th>\n",
       "      <th>album_popularity</th>\n",
       "      <th>genre_0</th>\n",
       "      <th>album_type</th>\n",
       "      <th>artists</th>\n",
       "      <th>...</th>\n",
       "      <th>loudness</th>\n",
       "      <th>mode</th>\n",
       "      <th>speechiness</th>\n",
       "      <th>tempo</th>\n",
       "      <th>time_signature</th>\n",
       "      <th>uri</th>\n",
       "      <th>valence</th>\n",
       "      <th>explicit</th>\n",
       "      <th>track_popularity</th>\n",
       "      <th>followers</th>\n",
       "    </tr>\n",
       "  </thead>\n",
       "  <tbody>\n",
       "    <tr>\n",
       "      <th>14620</th>\n",
       "      <td>6mkdsFN9hfvPu2X99LSiQD</td>\n",
       "      <td>9.040246</td>\n",
       "      <td>0.904025</td>\n",
       "      <td>10.0</td>\n",
       "      <td>2GlY47kJwB17Eu8yer3Ba3</td>\n",
       "      <td>Lady Generation</td>\n",
       "      <td>1</td>\n",
       "      <td>japanese dance pop</td>\n",
       "      <td>single</td>\n",
       "      <td>def will</td>\n",
       "      <td>...</td>\n",
       "      <td>-3.810</td>\n",
       "      <td>1.0</td>\n",
       "      <td>0.0284</td>\n",
       "      <td>127.010</td>\n",
       "      <td>4.0</td>\n",
       "      <td>spotify:track:2hWnpIs9GzGUQfPmuFfB7C</td>\n",
       "      <td>0.568</td>\n",
       "      <td>False</td>\n",
       "      <td>3.0</td>\n",
       "      <td>1153</td>\n",
       "    </tr>\n",
       "    <tr>\n",
       "      <th>4529</th>\n",
       "      <td>2kPpkaVu7vuO0Xk8nOYPrM</td>\n",
       "      <td>9.040246</td>\n",
       "      <td>0.904025</td>\n",
       "      <td>10.0</td>\n",
       "      <td>2pBPS2Q6RR6no0DdjgB6fO</td>\n",
       "      <td>Born Blessed</td>\n",
       "      <td>2</td>\n",
       "      <td>new orleans funk</td>\n",
       "      <td>album</td>\n",
       "      <td>jimmy hicks</td>\n",
       "      <td>...</td>\n",
       "      <td>-4.780</td>\n",
       "      <td>0.0</td>\n",
       "      <td>0.3070</td>\n",
       "      <td>191.799</td>\n",
       "      <td>4.0</td>\n",
       "      <td>spotify:track:1HXUubJai9VxwDmpAGUI0s</td>\n",
       "      <td>0.817</td>\n",
       "      <td>False</td>\n",
       "      <td>2.0</td>\n",
       "      <td>651</td>\n",
       "    </tr>\n",
       "    <tr>\n",
       "      <th>7896</th>\n",
       "      <td>4WPY0N74T3KUja57xMQTZ3</td>\n",
       "      <td>9.040246</td>\n",
       "      <td>0.904025</td>\n",
       "      <td>10.0</td>\n",
       "      <td>3YH2ZyKNuhphyixjJvtXul</td>\n",
       "      <td>For Sale: Live At Maxwell'S 1986</td>\n",
       "      <td>25</td>\n",
       "      <td>alternative rock</td>\n",
       "      <td>album</td>\n",
       "      <td>the replacements</td>\n",
       "      <td>...</td>\n",
       "      <td>-3.541</td>\n",
       "      <td>1.0</td>\n",
       "      <td>0.0618</td>\n",
       "      <td>175.908</td>\n",
       "      <td>4.0</td>\n",
       "      <td>spotify:track:4hLuVbocGJMFc1mdwfAMHX</td>\n",
       "      <td>0.459</td>\n",
       "      <td>False</td>\n",
       "      <td>12.0</td>\n",
       "      <td>282743</td>\n",
       "    </tr>\n",
       "    <tr>\n",
       "      <th>7927</th>\n",
       "      <td>4Xx6QMLTWppMwdABkN0Afj</td>\n",
       "      <td>9.040246</td>\n",
       "      <td>0.904025</td>\n",
       "      <td>10.0</td>\n",
       "      <td>2BRnoBLO6YKrsVPxvzB8VM</td>\n",
       "      <td>Piano Tribute To Lady Gaga, Vol. 2</td>\n",
       "      <td>4</td>\n",
       "      <td>piano cover</td>\n",
       "      <td>album</td>\n",
       "      <td>piano tribute players</td>\n",
       "      <td>...</td>\n",
       "      <td>-12.568</td>\n",
       "      <td>0.0</td>\n",
       "      <td>0.0380</td>\n",
       "      <td>126.980</td>\n",
       "      <td>3.0</td>\n",
       "      <td>spotify:track:67uJ7lXlq0b6UV8xDOiqgC</td>\n",
       "      <td>0.561</td>\n",
       "      <td>False</td>\n",
       "      <td>1.0</td>\n",
       "      <td>56536</td>\n",
       "    </tr>\n",
       "    <tr>\n",
       "      <th>3222</th>\n",
       "      <td>22QkuOmdRnasuuVgUjhrVw</td>\n",
       "      <td>9.040246</td>\n",
       "      <td>0.904025</td>\n",
       "      <td>10.0</td>\n",
       "      <td>0MDeIBghODZkcjb9F3KRSp</td>\n",
       "      <td>Positions (Acoustic)</td>\n",
       "      <td>36</td>\n",
       "      <td>acoustic cover</td>\n",
       "      <td>single</td>\n",
       "      <td>adam christopher</td>\n",
       "      <td>...</td>\n",
       "      <td>-12.203</td>\n",
       "      <td>0.0</td>\n",
       "      <td>0.0384</td>\n",
       "      <td>140.003</td>\n",
       "      <td>4.0</td>\n",
       "      <td>spotify:track:1Ca0BlORhLRm0Z3F66gh5t</td>\n",
       "      <td>0.663</td>\n",
       "      <td>False</td>\n",
       "      <td>45.0</td>\n",
       "      <td>24110</td>\n",
       "    </tr>\n",
       "    <tr>\n",
       "      <th>9073</th>\n",
       "      <td>55tLEUlrzGNtACuMVJZHNf</td>\n",
       "      <td>9.040246</td>\n",
       "      <td>0.904025</td>\n",
       "      <td>10.0</td>\n",
       "      <td>2c2tHl7Qg6cmQj17kddErc</td>\n",
       "      <td>Nirvana Peter</td>\n",
       "      <td>32</td>\n",
       "      <td>psychedelic folk rock</td>\n",
       "      <td>album</td>\n",
       "      <td>peter ivers</td>\n",
       "      <td>...</td>\n",
       "      <td>-9.122</td>\n",
       "      <td>0.0</td>\n",
       "      <td>0.0486</td>\n",
       "      <td>110.629</td>\n",
       "      <td>4.0</td>\n",
       "      <td>spotify:track:7JQaj3BZ3zEwIHEB8Dc62J</td>\n",
       "      <td>0.870</td>\n",
       "      <td>False</td>\n",
       "      <td>6.0</td>\n",
       "      <td>8283</td>\n",
       "    </tr>\n",
       "    <tr>\n",
       "      <th>12288</th>\n",
       "      <td>6UPQ041bqYr2Oftpv3hLLq</td>\n",
       "      <td>9.040246</td>\n",
       "      <td>0.904025</td>\n",
       "      <td>10.0</td>\n",
       "      <td>2lvRA6eJ5oozXGY5k8AhR0</td>\n",
       "      <td>Bamboo</td>\n",
       "      <td>5</td>\n",
       "      <td>uptempo hardcore</td>\n",
       "      <td>single</td>\n",
       "      <td>s-kill</td>\n",
       "      <td>...</td>\n",
       "      <td>-0.386</td>\n",
       "      <td>0.0</td>\n",
       "      <td>0.0924</td>\n",
       "      <td>105.008</td>\n",
       "      <td>4.0</td>\n",
       "      <td>spotify:track:0jMODKdMpfkHUdAVSNPSoH</td>\n",
       "      <td>0.172</td>\n",
       "      <td>True</td>\n",
       "      <td>11.0</td>\n",
       "      <td>1335</td>\n",
       "    </tr>\n",
       "    <tr>\n",
       "      <th>8267</th>\n",
       "      <td>4Z6WehLCUZYmz0RJL8CXCw</td>\n",
       "      <td>9.040246</td>\n",
       "      <td>0.904025</td>\n",
       "      <td>10.0</td>\n",
       "      <td>2QdLHPwOApDEBVQWxqtd2N</td>\n",
       "      <td>Don'T Cha (In The Style Of Pussycat Dolls Feat...</td>\n",
       "      <td>1</td>\n",
       "      <td>karaoke</td>\n",
       "      <td>single</td>\n",
       "      <td>prosource karaoke</td>\n",
       "      <td>...</td>\n",
       "      <td>-10.389</td>\n",
       "      <td>1.0</td>\n",
       "      <td>0.0444</td>\n",
       "      <td>119.997</td>\n",
       "      <td>4.0</td>\n",
       "      <td>spotify:track:1JtDpGeUGON0jycBmdv56t</td>\n",
       "      <td>0.738</td>\n",
       "      <td>False</td>\n",
       "      <td>1.0</td>\n",
       "      <td>2352</td>\n",
       "    </tr>\n",
       "    <tr>\n",
       "      <th>7815</th>\n",
       "      <td>4IYqFNExQItxN82ZJXsMWe</td>\n",
       "      <td>9.040246</td>\n",
       "      <td>0.904025</td>\n",
       "      <td>10.0</td>\n",
       "      <td>0Bgo9NHpmwWPE8b07AsGS7</td>\n",
       "      <td>Mukoni Ndi Nne</td>\n",
       "      <td>6</td>\n",
       "      <td>venda rap</td>\n",
       "      <td>album</td>\n",
       "      <td>tygaboy mukoni</td>\n",
       "      <td>...</td>\n",
       "      <td>-7.151</td>\n",
       "      <td>1.0</td>\n",
       "      <td>0.3020</td>\n",
       "      <td>78.043</td>\n",
       "      <td>4.0</td>\n",
       "      <td>spotify:track:48CfmMLU582Uzhb6WtVuCj</td>\n",
       "      <td>0.368</td>\n",
       "      <td>True</td>\n",
       "      <td>2.0</td>\n",
       "      <td>1755</td>\n",
       "    </tr>\n",
       "    <tr>\n",
       "      <th>2107</th>\n",
       "      <td>1eucLGnPT27tdEh6MU29wp</td>\n",
       "      <td>9.040246</td>\n",
       "      <td>0.904025</td>\n",
       "      <td>10.0</td>\n",
       "      <td>2s1l9K8WuocQav19TIENLg</td>\n",
       "      <td>Heaven Ep</td>\n",
       "      <td>30</td>\n",
       "      <td>melodic house</td>\n",
       "      <td>single</td>\n",
       "      <td>marsh</td>\n",
       "      <td>...</td>\n",
       "      <td>-8.748</td>\n",
       "      <td>0.0</td>\n",
       "      <td>0.0433</td>\n",
       "      <td>123.987</td>\n",
       "      <td>4.0</td>\n",
       "      <td>spotify:track:6bpbocouaPouYYZUtfkg8P</td>\n",
       "      <td>0.161</td>\n",
       "      <td>False</td>\n",
       "      <td>14.0</td>\n",
       "      <td>59361</td>\n",
       "    </tr>\n",
       "  </tbody>\n",
       "</table>\n",
       "<p>10 rows × 32 columns</p>\n",
       "</div>"
      ],
      "text/plain": [
       "                    artist_id    weight  similitud  final  \\\n",
       "14620  6mkdsFN9hfvPu2X99LSiQD  9.040246   0.904025   10.0   \n",
       "4529   2kPpkaVu7vuO0Xk8nOYPrM  9.040246   0.904025   10.0   \n",
       "7896   4WPY0N74T3KUja57xMQTZ3  9.040246   0.904025   10.0   \n",
       "7927   4Xx6QMLTWppMwdABkN0Afj  9.040246   0.904025   10.0   \n",
       "3222   22QkuOmdRnasuuVgUjhrVw  9.040246   0.904025   10.0   \n",
       "9073   55tLEUlrzGNtACuMVJZHNf  9.040246   0.904025   10.0   \n",
       "12288  6UPQ041bqYr2Oftpv3hLLq  9.040246   0.904025   10.0   \n",
       "8267   4Z6WehLCUZYmz0RJL8CXCw  9.040246   0.904025   10.0   \n",
       "7815   4IYqFNExQItxN82ZJXsMWe  9.040246   0.904025   10.0   \n",
       "2107   1eucLGnPT27tdEh6MU29wp  9.040246   0.904025   10.0   \n",
       "\n",
       "                     album_id  \\\n",
       "14620  2GlY47kJwB17Eu8yer3Ba3   \n",
       "4529   2pBPS2Q6RR6no0DdjgB6fO   \n",
       "7896   3YH2ZyKNuhphyixjJvtXul   \n",
       "7927   2BRnoBLO6YKrsVPxvzB8VM   \n",
       "3222   0MDeIBghODZkcjb9F3KRSp   \n",
       "9073   2c2tHl7Qg6cmQj17kddErc   \n",
       "12288  2lvRA6eJ5oozXGY5k8AhR0   \n",
       "8267   2QdLHPwOApDEBVQWxqtd2N   \n",
       "7815   0Bgo9NHpmwWPE8b07AsGS7   \n",
       "2107   2s1l9K8WuocQav19TIENLg   \n",
       "\n",
       "                                              album_name  album_popularity  \\\n",
       "14620                                    Lady Generation                 1   \n",
       "4529                                        Born Blessed                 2   \n",
       "7896                    For Sale: Live At Maxwell'S 1986                25   \n",
       "7927                  Piano Tribute To Lady Gaga, Vol. 2                 4   \n",
       "3222                                Positions (Acoustic)                36   \n",
       "9073                                       Nirvana Peter                32   \n",
       "12288                                             Bamboo                 5   \n",
       "8267   Don'T Cha (In The Style Of Pussycat Dolls Feat...                 1   \n",
       "7815                                      Mukoni Ndi Nne                 6   \n",
       "2107                                           Heaven Ep                30   \n",
       "\n",
       "                     genre_0 album_type                artists  ...  loudness  \\\n",
       "14620     japanese dance pop     single               def will  ...    -3.810   \n",
       "4529        new orleans funk      album            jimmy hicks  ...    -4.780   \n",
       "7896        alternative rock      album       the replacements  ...    -3.541   \n",
       "7927             piano cover      album  piano tribute players  ...   -12.568   \n",
       "3222          acoustic cover     single       adam christopher  ...   -12.203   \n",
       "9073   psychedelic folk rock      album            peter ivers  ...    -9.122   \n",
       "12288       uptempo hardcore     single                 s-kill  ...    -0.386   \n",
       "8267                 karaoke     single      prosource karaoke  ...   -10.389   \n",
       "7815               venda rap      album         tygaboy mukoni  ...    -7.151   \n",
       "2107           melodic house     single                  marsh  ...    -8.748   \n",
       "\n",
       "      mode speechiness    tempo  time_signature  \\\n",
       "14620  1.0      0.0284  127.010             4.0   \n",
       "4529   0.0      0.3070  191.799             4.0   \n",
       "7896   1.0      0.0618  175.908             4.0   \n",
       "7927   0.0      0.0380  126.980             3.0   \n",
       "3222   0.0      0.0384  140.003             4.0   \n",
       "9073   0.0      0.0486  110.629             4.0   \n",
       "12288  0.0      0.0924  105.008             4.0   \n",
       "8267   1.0      0.0444  119.997             4.0   \n",
       "7815   1.0      0.3020   78.043             4.0   \n",
       "2107   0.0      0.0433  123.987             4.0   \n",
       "\n",
       "                                        uri  valence  explicit  \\\n",
       "14620  spotify:track:2hWnpIs9GzGUQfPmuFfB7C    0.568     False   \n",
       "4529   spotify:track:1HXUubJai9VxwDmpAGUI0s    0.817     False   \n",
       "7896   spotify:track:4hLuVbocGJMFc1mdwfAMHX    0.459     False   \n",
       "7927   spotify:track:67uJ7lXlq0b6UV8xDOiqgC    0.561     False   \n",
       "3222   spotify:track:1Ca0BlORhLRm0Z3F66gh5t    0.663     False   \n",
       "9073   spotify:track:7JQaj3BZ3zEwIHEB8Dc62J    0.870     False   \n",
       "12288  spotify:track:0jMODKdMpfkHUdAVSNPSoH    0.172      True   \n",
       "8267   spotify:track:1JtDpGeUGON0jycBmdv56t    0.738     False   \n",
       "7815   spotify:track:48CfmMLU582Uzhb6WtVuCj    0.368      True   \n",
       "2107   spotify:track:6bpbocouaPouYYZUtfkg8P    0.161     False   \n",
       "\n",
       "       track_popularity  followers  \n",
       "14620               3.0       1153  \n",
       "4529                2.0        651  \n",
       "7896               12.0     282743  \n",
       "7927                1.0      56536  \n",
       "3222               45.0      24110  \n",
       "9073                6.0       8283  \n",
       "12288              11.0       1335  \n",
       "8267                1.0       2352  \n",
       "7815                2.0       1755  \n",
       "2107               14.0      59361  \n",
       "\n",
       "[10 rows x 32 columns]"
      ]
     },
     "execution_count": 78,
     "metadata": {},
     "output_type": "execute_result"
    }
   ],
   "source": [
    "#Como solo vamos a recomendar 10 canciones, se crea una variable con esa única información\n",
    "top_recomendaciones = df_ratings_subset_agg.head(10)\n",
    "top_recomendaciones"
   ]
  },
  {
   "cell_type": "code",
   "execution_count": 82,
   "metadata": {},
   "outputs": [
    {
     "name": "stdout",
     "output_type": "stream",
     "text": [
      "<class 'pandas.core.frame.DataFrame'>\n",
      "Index: 10 entries, 14620 to 2107\n",
      "Data columns (total 32 columns):\n",
      " #   Column             Non-Null Count  Dtype  \n",
      "---  ------             --------------  -----  \n",
      " 0   artist_id          10 non-null     object \n",
      " 1   weight             10 non-null     float64\n",
      " 2   similitud          10 non-null     float64\n",
      " 3   final              10 non-null     float64\n",
      " 4   album_id           10 non-null     object \n",
      " 5   album_name         10 non-null     object \n",
      " 6   album_popularity   10 non-null     int64  \n",
      " 7   genre_0            10 non-null     object \n",
      " 8   album_type         10 non-null     object \n",
      " 9   artists            10 non-null     object \n",
      " 10  duration_sec       10 non-null     float64\n",
      " 11  track_id           10 non-null     object \n",
      " 12  track_name         10 non-null     object \n",
      " 13  artist_genres      10 non-null     object \n",
      " 14  artist_popularity  10 non-null     int64  \n",
      " 15  name               10 non-null     object \n",
      " 16  acousticness       10 non-null     float64\n",
      " 17  danceability       10 non-null     float64\n",
      " 18  energy             10 non-null     float64\n",
      " 19  instrumentalness   10 non-null     float64\n",
      " 20  key                10 non-null     float64\n",
      " 21  liveness           10 non-null     float64\n",
      " 22  loudness           10 non-null     float64\n",
      " 23  mode               10 non-null     float64\n",
      " 24  speechiness        10 non-null     float64\n",
      " 25  tempo              10 non-null     float64\n",
      " 26  time_signature     10 non-null     float64\n",
      " 27  uri                10 non-null     object \n",
      " 28  valence            10 non-null     float64\n",
      " 29  explicit           10 non-null     object \n",
      " 30  track_popularity   10 non-null     float64\n",
      " 31  followers          10 non-null     int64  \n",
      "dtypes: float64(17), int64(3), object(12)\n",
      "memory usage: 2.6+ KB\n"
     ]
    }
   ],
   "source": [
    "top_recomendaciones.info()"
   ]
  },
  {
   "cell_type": "code",
   "execution_count": 91,
   "metadata": {},
   "outputs": [],
   "source": [
    "import pandas as pd\n",
    "from surprise import Dataset, Reader, SVD\n",
    "from surprise.model_selection import train_test_split\n",
    "import surprise.dump as dump"
   ]
  },
  {
   "cell_type": "code",
   "execution_count": 93,
   "metadata": {},
   "outputs": [],
   "source": [
    "# Fusionar los DataFrames utilizando la columna 'artist_id'\n",
    "df_merged = pd.merge(df_ratings_subset_agg, df_ratings_subset, on='artist_id')\n",
    "\n",
    "# Agregar la columna 'user_id' a df_ratings_subset_agg\n",
    "df_ratings_subset_agg['user_id'] = df_ratings_subset['user_id']\n",
    "\n",
    "# Construir conjunto de datos para Surprise\n",
    "reader = Reader(rating_scale=(1, 10))\n",
    "data = Dataset.load_from_df(df_ratings_subset_agg[['user_id', 'artist_id', 'weight']], reader=reader)\n",
    "\n",
    "# Entrenar el modelo\n",
    "trainset, testset = train_test_split(data, test_size=0.2)\n",
    "\n",
    "# Crear y entrenar el modelo\n",
    "modelo_recomendacion = SVD()\n",
    "modelo_recomendacion.fit(trainset)\n",
    "\n",
    "# Guardar el modelo en formato H5\n",
    "dump.dump('modelo_recomendacion.pkl', algo=modelo_recomendacion)"
   ]
  },
  {
   "cell_type": "code",
   "execution_count": 94,
   "metadata": {},
   "outputs": [
    {
     "ename": "AttributeError",
     "evalue": "'SVD' object has no attribute 'pkl'",
     "output_type": "error",
     "traceback": [
      "\u001b[0;31m---------------------------------------------------------------------------\u001b[0m",
      "\u001b[0;31mAttributeError\u001b[0m                            Traceback (most recent call last)",
      "Cell \u001b[0;32mIn[94], line 1\u001b[0m\n\u001b[0;32m----> 1\u001b[0m modelo_recomendacion\u001b[38;5;241m.\u001b[39mpkl\n",
      "\u001b[0;31mAttributeError\u001b[0m: 'SVD' object has no attribute 'pkl'"
     ]
    }
   ],
   "source": [
    "modelo_recomendacion.pkl"
   ]
  },
  {
   "cell_type": "code",
   "execution_count": null,
   "metadata": {
    "tags": []
   },
   "outputs": [],
   "source": [
    "#Saca la información del data inicial y la incluye en el data creado con la información\n",
    "canciones = spotify_features_data_reducido[spotify_features_data_reducido[\"artists\"].isin(top_recomendaciones[\"artists\"].values)]\n"
   ]
  },
  {
   "cell_type": "code",
   "execution_count": null,
   "metadata": {
    "tags": []
   },
   "outputs": [],
   "source": [
    "# Incluimos información relevante posterior\n",
    "canciones_recomendadas = canciones.sample(10)[[\"artists\", \"track_name\",\"acousticness\", \"danceability\", \"energy\", \"instrumentalness\", \"key\", \"liveness\", \"loudness\", \"mode\", \"speechiness\", \"tempo\", \"valence\" ]]"
   ]
  },
  {
   "cell_type": "code",
   "execution_count": null,
   "metadata": {
    "tags": []
   },
   "outputs": [],
   "source": [
    "spotify_data = pd.read_csv(\"Data/spotify_data_12_20_2023.csv\")\n",
    "\n",
    "# Crear un nuevo DataFrame vacío con la misma estructura de columnas que top_recomendaciones\n",
    "preferencias_usuario_completo = pd.DataFrame(columns=top_recomendaciones.columns)\n",
    "\n",
    "# Copiar los artist_id de usuario_activo en preferencias_usuario_completo\n",
    "preferencias_usuario_completo['artist_id'] = usuario_activo['artist_id']\n",
    "\n",
    "# Realizar un bucle sobre preferencias_usuario_completo para llenar los datos desde spotify_features_data_reducido\n",
    "for index, row in preferencias_usuario_completo.iterrows():\n",
    "    artist_id = row['artist_id']\n",
    "    # Buscar la primera coincidencia en spotify_features_data_reducido por artist_id\n",
    "    matching_row = spotify_data[spotify_data['artist_id'] == artist_id].iloc[0]\n",
    "    \n",
    "     # Llenar la fila en preferencias_usuario_completo con los datos de spotify_features_data_reducido\n",
    "    for col in preferencias_usuario_completo.columns:\n",
    "        if col != 'artist_id' and col != 'weight' and col != 'similitud' and col != 'final':  # Omitir la columna artist_id ya que ya está llena\n",
    "            preferencias_usuario_completo.at[index, col] = matching_row[col]\n",
    "preferencias_usuario_completo"
   ]
  },
  {
   "cell_type": "markdown",
   "metadata": {},
   "source": [
    "### Gráfica comparación follower vs artista del usuario"
   ]
  },
  {
   "cell_type": "code",
   "execution_count": null,
   "metadata": {
    "tags": []
   },
   "outputs": [],
   "source": [
    "follower_top_final = pd.DataFrame({\"followers\": top_recomendaciones[\"followers\"],\n",
    "                     \"artists\" : top_recomendaciones[\"artists\"]})\n",
    "follower_top_final = follower_top_final.drop_duplicates(\"artists\")\n",
    "follower_top_final = follower_top_final.sort_values(by = \"followers\", ascending = False)\n",
    "follower_top_final = follower_top_final.head(10)"
   ]
  },
  {
   "cell_type": "code",
   "execution_count": null,
   "metadata": {
    "tags": []
   },
   "outputs": [],
   "source": [
    "plt.figure(figsize=(12,6))\n",
    "ax = sns.barplot(x='artists', y='followers', data=follower_top_final)\n",
    "plt.xticks(rotation=90)\n",
    "for bar in ax.patches:\n",
    "    ax.annotate(format(bar.get_height(), '.2f'), \n",
    "                   (bar.get_x() + bar.get_width() / 2, \n",
    "                    bar.get_height()), ha='center', va='bottom',\n",
    "                   textcoords='offset points', xytext=(0,10),\n",
    "                   fontsize=8)\n",
    "\n",
    "plt.show()"
   ]
  },
  {
   "cell_type": "markdown",
   "metadata": {},
   "source": [
    "### Gráfica comparación popularity vs artista del usuario"
   ]
  },
  {
   "cell_type": "code",
   "execution_count": null,
   "metadata": {
    "tags": []
   },
   "outputs": [],
   "source": [
    "popularity_top_final = pd.DataFrame({\"artist_popularity\": top_recomendaciones[\"artist_popularity\"],\n",
    "                     \"artists\" : top_recomendaciones[\"artists\"]})\n",
    "popularity_top_final = popularity_top_final.drop_duplicates(\"artists\")\n",
    "popularity_top_final = popularity_top_final.sort_values(by = \"artist_popularity\", ascending = False)\n",
    "popularity_top_final = popularity_top_final.head(10)"
   ]
  },
  {
   "cell_type": "code",
   "execution_count": null,
   "metadata": {
    "tags": []
   },
   "outputs": [],
   "source": [
    "plt.figure(figsize=(12,6))\n",
    "ax = sns.barplot(x='artists', y='artist_popularity', data=popularity_top_final)\n",
    "plt.xticks(rotation=90)\n",
    "for bar in ax.patches:\n",
    "    ax.annotate(format(bar.get_height(), '.2f'), \n",
    "                   (bar.get_x() + bar.get_width() / 2, \n",
    "                    bar.get_height()), ha='center', va='bottom',\n",
    "                   textcoords='offset points', xytext=(0,10),\n",
    "                   fontsize=8)\n",
    "\n",
    "plt.show()"
   ]
  },
  {
   "cell_type": "markdown",
   "metadata": {},
   "source": [
    "### Gráfico genero (elección usuario-recomendador)"
   ]
  },
  {
   "cell_type": "code",
   "execution_count": null,
   "metadata": {
    "tags": []
   },
   "outputs": [],
   "source": [
    "spotify_data = pd.read_csv(\"Data/spotify_data_12_20_2023.csv\")\n",
    "\n",
    "# Crear un nuevo DataFrame vacío con la misma estructura de columnas que top_recomendaciones\n",
    "preferencias_usuario_completo = pd.DataFrame(columns=top_recomendaciones.columns)\n",
    "\n",
    "# Copiar los artist_id de usuario_activo en preferencias_usuario_completo\n",
    "preferencias_usuario_completo['artist_id'] = usuario_activo['artist_id']\n",
    "\n",
    "# Realizar un bucle sobre preferencias_usuario_completo para llenar los datos desde spotify_features_data_reducido\n",
    "for index, row in preferencias_usuario_completo.iterrows():\n",
    "    artist_id = row['artist_id']\n",
    "    # Buscar la primera coincidencia en spotify_features_data_reducido por artist_id\n",
    "    matching_row = spotify_data[spotify_data['artist_id'] == artist_id].iloc[0]\n",
    "    \n",
    "     # Llenar la fila en preferencias_usuario_completo con los datos de spotify_features_data_reducido\n",
    "    for col in preferencias_usuario_completo.columns:\n",
    "        if col != 'artist_id' and col != 'weight' and col != 'similitud' and col != 'final':  # Omitir la columna artist_id ya que ya está llena\n",
    "            preferencias_usuario_completo.at[index, col] = matching_row[col]\n",
    "preferencias_usuario_completo[\"artists\"] = preferencias_usuario_completo[\"artists\"].apply(lambda x : eval(x)[0].lower())"
   ]
  },
  {
   "cell_type": "code",
   "execution_count": null,
   "metadata": {
    "tags": []
   },
   "outputs": [],
   "source": [
    "fig, axes = plt.subplots(1, 2, figsize=(15, 6), sharey=True)\n",
    "\n",
    "sns.countplot(ax=axes[0], data=preferencias_usuario_completo, x='genre_0', hue='artists', dodge=True)\n",
    "axes[0].set_title('Preferencias de Usuario Completo')\n",
    "axes[0].set_xlabel('Genre')\n",
    "axes[0].set_ylabel('Count')\n",
    "axes[0].legend(title='Artist')\n",
    "\n",
    "sns.countplot(ax=axes[1], data=top_recomendaciones, x='genre_0', hue='artists', dodge=True)\n",
    "axes[1].set_title('Top Recomendaciones')\n",
    "axes[1].set_xlabel('Genre')\n",
    "axes[1].legend(title='Artist')\n",
    "\n",
    "plt.tight_layout()\n",
    "plt.xticks(rotation=45)\n",
    "plt.show()"
   ]
  },
  {
   "cell_type": "markdown",
   "metadata": {},
   "source": [
    "### Gráfica información técnica de las canciones recomendadas"
   ]
  },
  {
   "cell_type": "code",
   "execution_count": null,
   "metadata": {
    "tags": []
   },
   "outputs": [],
   "source": [
    "sns.barplot(data = canciones_recomendadas, x = \"track_name\", y = \"acousticness\", order = sorted(canciones_recomendadas['track_name'].unique())) \n",
    "plt.xticks(rotation=90)\n",
    "plt.show()"
   ]
  },
  {
   "cell_type": "code",
   "execution_count": null,
   "metadata": {
    "tags": []
   },
   "outputs": [],
   "source": [
    "sns.barplot(data = canciones_recomendadas, x = \"track_name\", y = \"acousticness\", order = sorted(canciones_recomendadas['track_name'].unique())) \n",
    "plt.xticks(rotation=90)\n",
    "plt.show()"
   ]
  },
  {
   "cell_type": "code",
   "execution_count": null,
   "metadata": {
    "tags": []
   },
   "outputs": [],
   "source": [
    "sns.barplot(data = canciones_recomendadas, x = \"track_name\", y = \"danceability\", order = sorted(canciones_recomendadas['track_name'].unique())) \n",
    "plt.xticks(rotation=90)\n",
    "plt.show()"
   ]
  },
  {
   "cell_type": "code",
   "execution_count": null,
   "metadata": {
    "tags": []
   },
   "outputs": [],
   "source": [
    "sns.barplot(data = canciones_recomendadas, x = \"track_name\", y = \"energy\", order = sorted(canciones_recomendadas['track_name'].unique())) \n",
    "plt.xticks(rotation=90)\n",
    "plt.show()"
   ]
  },
  {
   "cell_type": "code",
   "execution_count": null,
   "metadata": {
    "tags": []
   },
   "outputs": [],
   "source": [
    "sns.barplot(data = canciones_recomendadas, x = \"track_name\", y = \"instrumentalness\", order = sorted(canciones_recomendadas['track_name'].unique())) \n",
    "plt.xticks(rotation=90)\n",
    "plt.show()"
   ]
  },
  {
   "cell_type": "code",
   "execution_count": null,
   "metadata": {
    "tags": []
   },
   "outputs": [],
   "source": [
    "sns.barplot(data = canciones_recomendadas, x = \"track_name\", y = \"key\", order = sorted(canciones_recomendadas['track_name'].unique())) \n",
    "plt.xticks(rotation=90)\n",
    "plt.show()"
   ]
  },
  {
   "cell_type": "code",
   "execution_count": null,
   "metadata": {
    "tags": []
   },
   "outputs": [],
   "source": [
    "sns.barplot(data = canciones_recomendadas, x = \"track_name\", y = \"liveness\", order = sorted(canciones_recomendadas['track_name'].unique())) \n",
    "plt.xticks(rotation=90)\n",
    "plt.show()"
   ]
  },
  {
   "cell_type": "code",
   "execution_count": null,
   "metadata": {
    "tags": []
   },
   "outputs": [],
   "source": [
    "sns.barplot(data = canciones_recomendadas, x = \"track_name\", y = \"loudness\", order = sorted(canciones_recomendadas['track_name'].unique())) \n",
    "plt.xticks(rotation=90)\n",
    "plt.show()"
   ]
  },
  {
   "cell_type": "code",
   "execution_count": null,
   "metadata": {
    "tags": []
   },
   "outputs": [],
   "source": [
    "sns.barplot(data = canciones_recomendadas, x = \"track_name\", y = \"mode\", order = sorted(canciones_recomendadas['track_name'].unique())) \n",
    "plt.xticks(rotation=90)\n",
    "plt.show()"
   ]
  },
  {
   "cell_type": "code",
   "execution_count": null,
   "metadata": {
    "tags": []
   },
   "outputs": [],
   "source": [
    "sns.barplot(data = canciones_recomendadas, x = \"track_name\", y = \"speechiness\", order = sorted(canciones_recomendadas['track_name'].unique())) \n",
    "plt.xticks(rotation=90)\n",
    "plt.show()"
   ]
  },
  {
   "cell_type": "code",
   "execution_count": null,
   "metadata": {
    "tags": []
   },
   "outputs": [],
   "source": [
    "sns.barplot(data = canciones_recomendadas, x = \"track_name\", y = \"tempo\", order = sorted(canciones_recomendadas['track_name'].unique())) \n",
    "plt.xticks(rotation=90)\n",
    "plt.show()"
   ]
  },
  {
   "cell_type": "code",
   "execution_count": null,
   "metadata": {
    "tags": []
   },
   "outputs": [],
   "source": [
    "plt.figure(figsize = (12, 8))\n",
    "\n",
    "sns.heatmap(data = canciones_recomendadas.corr().round(2), annot = True)\n",
    "plt.show()"
   ]
  },
  {
   "cell_type": "markdown",
   "metadata": {},
   "source": [
    "### Gráfico Track_popularity vs canciones"
   ]
  },
  {
   "cell_type": "code",
   "execution_count": null,
   "metadata": {
    "tags": []
   },
   "outputs": [],
   "source": [
    "popularity_cancion = pd.DataFrame({\"track_popularity\": top_recomendaciones[\"track_popularity\"],\n",
    "                     \"track_name\" : top_recomendaciones[\"track_name\"]})\n",
    "popularity_cancion = popularity_cancion.drop_duplicates(\"track_name\")\n",
    "popularity_cancion = popularity_cancion.sort_values(by = \"track_popularity\", ascending = False)\n",
    "popularity_cancion = popularity_cancion.head(10)"
   ]
  },
  {
   "cell_type": "code",
   "execution_count": null,
   "metadata": {
    "tags": []
   },
   "outputs": [],
   "source": [
    "plt.figure(figsize=(12,6))\n",
    "ax = sns.barplot(x='track_name', y='track_popularity', data=popularity_cancion)\n",
    "plt.xticks(rotation=90)\n",
    "for bar in ax.patches:\n",
    "    ax.annotate(format(bar.get_height(), '.2f'), \n",
    "                   (bar.get_x() + bar.get_width() / 2, \n",
    "                    bar.get_height()), ha='center', va='bottom',\n",
    "                   textcoords='offset points', xytext=(0,10),\n",
    "                   fontsize=8)\n",
    "\n",
    "plt.show()"
   ]
  },
  {
   "cell_type": "markdown",
   "metadata": {},
   "source": [
    "### Gráfico valence vs artista, top recomendación"
   ]
  },
  {
   "cell_type": "code",
   "execution_count": null,
   "metadata": {
    "tags": []
   },
   "outputs": [],
   "source": [
    "sns.barplot(data = canciones_recomendadas, x = \"artists\", y = \"valence\", order = sorted(canciones_recomendadas['artists'].unique())) \n",
    "plt.xticks(rotation=90)\n",
    "plt.show()"
   ]
  },
  {
   "cell_type": "code",
   "execution_count": null,
   "metadata": {},
   "outputs": [],
   "source": []
  },
  {
   "cell_type": "code",
   "execution_count": null,
   "metadata": {},
   "outputs": [],
   "source": []
  },
  {
   "cell_type": "code",
   "execution_count": null,
   "metadata": {},
   "outputs": [],
   "source": []
  },
  {
   "cell_type": "code",
   "execution_count": null,
   "metadata": {},
   "outputs": [],
   "source": []
  }
 ],
 "metadata": {
  "kernelspec": {
   "display_name": "Python 3 (ipykernel)",
   "language": "python",
   "name": "python3"
  },
  "language_info": {
   "codemirror_mode": {
    "name": "ipython",
    "version": 3
   },
   "file_extension": ".py",
   "mimetype": "text/x-python",
   "name": "python",
   "nbconvert_exporter": "python",
   "pygments_lexer": "ipython3",
   "version": "3.11.5"
  }
 },
 "nbformat": 4,
 "nbformat_minor": 4
}
